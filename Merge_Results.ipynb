{
 "metadata": {
  "language_info": {
   "codemirror_mode": {
    "name": "ipython",
    "version": 3
   },
   "file_extension": ".py",
   "mimetype": "text/x-python",
   "name": "python",
   "nbconvert_exporter": "python",
   "pygments_lexer": "ipython3",
   "version": "3.8.0"
  },
  "orig_nbformat": 2,
  "kernelspec": {
   "name": "python3",
   "display_name": "Python 3",
   "language": "python"
  }
 },
 "nbformat": 4,
 "nbformat_minor": 2,
 "cells": [
  {
   "cell_type": "code",
   "execution_count": 1,
   "metadata": {},
   "outputs": [],
   "source": [
    "import pandas as pd \n",
    "import numpy as np \n",
    "import pickle"
   ]
  },
  {
   "cell_type": "code",
   "execution_count": 3,
   "metadata": {},
   "outputs": [],
   "source": [
    "folder_dir = \"/media/gvk/GVK_Elements/github_repo/Ensemble/Stacking_Test/Stacking_Data/\"\n"
   ]
  },
  {
   "cell_type": "code",
   "execution_count": 41,
   "metadata": {},
   "outputs": [],
   "source": [
    "fadi_colorDir = os.path.join(folder_dir, \"fadi_color_pcd0100_pcd1034.txt\")\n",
    "fadi_depthDir = os.path.join(folder_dir, \"fadi_depth_pcd0100_pcd1034.txt\")\n",
    "ggcnn_depthDir = os.path.join(folder_dir, \"ggcnn2_depth_pcd0100_pcd1034.txt\") \n",
    "ggcnn2_depthDir = os.path.join(folder_dir, \"ggcnn_depth_pcd0100_pcd1034.txt\")"
   ]
  },
  {
   "cell_type": "code",
   "execution_count": 42,
   "metadata": {},
   "outputs": [],
   "source": [
    "filesDir = [fadi_colorDir, fadi_depthDir, ggcnn_depthDir, ggcnn2_depthDir]\n",
    "with open(fadi_colorDir, 'rb') as fread:\n",
    "    fadi_color = pickle.load(fread)\n",
    "with open(fadi_depthDir, 'rb') as fread:\n",
    "    fadi_depth = pickle.load(fread)\n",
    "with open(ggcnn_depthDir, 'rb') as fread:\n",
    "    ggcnn_depth = pickle.load(fread)\n",
    "with open(ggcnn2_depthDir, 'rb') as fread:\n",
    "    ggcnn2_depth = pickle.load(fread)"
   ]
  },
  {
   "cell_type": "code",
   "execution_count": 44,
   "metadata": {},
   "outputs": [],
   "source": [
    "color_df = pd.DataFrame.from_dict(fadi_color, orient = 'index')\n",
    "color_df.columns = ['color_iou', 'color_quality']\n",
    "color_df['fname'] = color_df.index\n",
    "\n",
    "depth_df = pd.DataFrame.from_dict(fadi_depth, orient = 'index')\n",
    "depth_df.columns = ['depth_iou', 'depth_quality']\n",
    "depth_df['fname'] = depth_df.index\n",
    "\n",
    "\n",
    "ggcnn_df = pd.DataFrame.from_dict(ggcnn_depth, orient = 'index')\n",
    "ggcnn_df.columns = ['ggcnn_iou', 'ggcnn_quality']\n",
    "ggcnn_df['fname'] = ggcnn_df.index\n",
    "\n",
    "\n",
    "ggcnn2_df = pd.DataFrame.from_dict(ggcnn2_depth, orient = 'index')\n",
    "ggcnn2_df.columns = ['ggcnn2_iou', 'ggcnn2_quality']\n",
    "ggcnn2_df['fname'] = ggcnn2_df.index\n"
   ]
  },
  {
   "cell_type": "code",
   "execution_count": 45,
   "metadata": {},
   "outputs": [],
   "source": [
    "results_df = pd.concat([color_df, depth_df, ggcnn_df, ggcnn2_df], axis = 1)"
   ]
  },
  {
   "cell_type": "code",
   "execution_count": 46,
   "metadata": {},
   "outputs": [],
   "source": [
    "results_df = results_df.loc[:,~results_df.columns.duplicated()]"
   ]
  },
  {
   "cell_type": "code",
   "execution_count": 47,
   "metadata": {},
   "outputs": [],
   "source": [
    "results_df = results_df[['fname','color_iou','color_quality',\t\t'depth_iou',\t'depth_quality','ggcnn_iou','ggcnn_quality', 'ggcnn2_iou', 'ggcnn2_quality']]\n",
    "results_df['groud_truth'] = 1"
   ]
  },
  {
   "cell_type": "code",
   "execution_count": 48,
   "metadata": {},
   "outputs": [
    {
     "output_type": "execute_result",
     "data": {
      "text/plain": [
       "           fname  color_iou  color_quality  depth_iou  depth_quality  \\\n",
       "pcd0100  pcd0100          1       1.051706          1       0.954668   \n",
       "pcd0101  pcd0101          1       1.045923          1       0.953750   \n",
       "pcd0102  pcd0102          1       0.929282          1       0.857348   \n",
       "pcd0103  pcd0103          1       0.993950          1       0.851716   \n",
       "pcd0104  pcd0104          1       0.945183          1       0.825188   \n",
       "...          ...        ...            ...        ...            ...   \n",
       "pcd1030  pcd1030          1       0.802078          1       0.495141   \n",
       "pcd1031  pcd1031          0       0.663789          0       0.968811   \n",
       "pcd1032  pcd1032          0       0.848007          1       1.020501   \n",
       "pcd1033  pcd1033          1       0.990940          1       0.660984   \n",
       "pcd1034  pcd1034          1       0.933815          0       0.809684   \n",
       "\n",
       "         ggcnn_iou  ggcnn_quality  ggcnn2_iou  ggcnn2_quality  groud_truth  \n",
       "pcd0100          1       0.789719           1        0.954668            1  \n",
       "pcd0101          1       0.898149           1        0.953750            1  \n",
       "pcd0102          1       0.770612           1        0.857348            1  \n",
       "pcd0103          1       0.901683           1        0.851716            1  \n",
       "pcd0104          1       0.790561           1        0.825188            1  \n",
       "...            ...            ...         ...             ...          ...  \n",
       "pcd1030          0       0.923583           1        0.495141            1  \n",
       "pcd1031          1       0.877918           0        0.968811            1  \n",
       "pcd1032          1       1.065817           1        1.020501            1  \n",
       "pcd1033          1       0.754636           1        0.660984            1  \n",
       "pcd1034          0       0.874258           0        0.809684            1  \n",
       "\n",
       "[885 rows x 10 columns]"
      ],
      "text/html": "<div>\n<style scoped>\n    .dataframe tbody tr th:only-of-type {\n        vertical-align: middle;\n    }\n\n    .dataframe tbody tr th {\n        vertical-align: top;\n    }\n\n    .dataframe thead th {\n        text-align: right;\n    }\n</style>\n<table border=\"1\" class=\"dataframe\">\n  <thead>\n    <tr style=\"text-align: right;\">\n      <th></th>\n      <th>fname</th>\n      <th>color_iou</th>\n      <th>color_quality</th>\n      <th>depth_iou</th>\n      <th>depth_quality</th>\n      <th>ggcnn_iou</th>\n      <th>ggcnn_quality</th>\n      <th>ggcnn2_iou</th>\n      <th>ggcnn2_quality</th>\n      <th>groud_truth</th>\n    </tr>\n  </thead>\n  <tbody>\n    <tr>\n      <th>pcd0100</th>\n      <td>pcd0100</td>\n      <td>1</td>\n      <td>1.051706</td>\n      <td>1</td>\n      <td>0.954668</td>\n      <td>1</td>\n      <td>0.789719</td>\n      <td>1</td>\n      <td>0.954668</td>\n      <td>1</td>\n    </tr>\n    <tr>\n      <th>pcd0101</th>\n      <td>pcd0101</td>\n      <td>1</td>\n      <td>1.045923</td>\n      <td>1</td>\n      <td>0.953750</td>\n      <td>1</td>\n      <td>0.898149</td>\n      <td>1</td>\n      <td>0.953750</td>\n      <td>1</td>\n    </tr>\n    <tr>\n      <th>pcd0102</th>\n      <td>pcd0102</td>\n      <td>1</td>\n      <td>0.929282</td>\n      <td>1</td>\n      <td>0.857348</td>\n      <td>1</td>\n      <td>0.770612</td>\n      <td>1</td>\n      <td>0.857348</td>\n      <td>1</td>\n    </tr>\n    <tr>\n      <th>pcd0103</th>\n      <td>pcd0103</td>\n      <td>1</td>\n      <td>0.993950</td>\n      <td>1</td>\n      <td>0.851716</td>\n      <td>1</td>\n      <td>0.901683</td>\n      <td>1</td>\n      <td>0.851716</td>\n      <td>1</td>\n    </tr>\n    <tr>\n      <th>pcd0104</th>\n      <td>pcd0104</td>\n      <td>1</td>\n      <td>0.945183</td>\n      <td>1</td>\n      <td>0.825188</td>\n      <td>1</td>\n      <td>0.790561</td>\n      <td>1</td>\n      <td>0.825188</td>\n      <td>1</td>\n    </tr>\n    <tr>\n      <th>...</th>\n      <td>...</td>\n      <td>...</td>\n      <td>...</td>\n      <td>...</td>\n      <td>...</td>\n      <td>...</td>\n      <td>...</td>\n      <td>...</td>\n      <td>...</td>\n      <td>...</td>\n    </tr>\n    <tr>\n      <th>pcd1030</th>\n      <td>pcd1030</td>\n      <td>1</td>\n      <td>0.802078</td>\n      <td>1</td>\n      <td>0.495141</td>\n      <td>0</td>\n      <td>0.923583</td>\n      <td>1</td>\n      <td>0.495141</td>\n      <td>1</td>\n    </tr>\n    <tr>\n      <th>pcd1031</th>\n      <td>pcd1031</td>\n      <td>0</td>\n      <td>0.663789</td>\n      <td>0</td>\n      <td>0.968811</td>\n      <td>1</td>\n      <td>0.877918</td>\n      <td>0</td>\n      <td>0.968811</td>\n      <td>1</td>\n    </tr>\n    <tr>\n      <th>pcd1032</th>\n      <td>pcd1032</td>\n      <td>0</td>\n      <td>0.848007</td>\n      <td>1</td>\n      <td>1.020501</td>\n      <td>1</td>\n      <td>1.065817</td>\n      <td>1</td>\n      <td>1.020501</td>\n      <td>1</td>\n    </tr>\n    <tr>\n      <th>pcd1033</th>\n      <td>pcd1033</td>\n      <td>1</td>\n      <td>0.990940</td>\n      <td>1</td>\n      <td>0.660984</td>\n      <td>1</td>\n      <td>0.754636</td>\n      <td>1</td>\n      <td>0.660984</td>\n      <td>1</td>\n    </tr>\n    <tr>\n      <th>pcd1034</th>\n      <td>pcd1034</td>\n      <td>1</td>\n      <td>0.933815</td>\n      <td>0</td>\n      <td>0.809684</td>\n      <td>0</td>\n      <td>0.874258</td>\n      <td>0</td>\n      <td>0.809684</td>\n      <td>1</td>\n    </tr>\n  </tbody>\n</table>\n<p>885 rows × 10 columns</p>\n</div>"
     },
     "metadata": {},
     "execution_count": 48
    }
   ],
   "source": [
    "results_df"
   ]
  },
  {
   "cell_type": "code",
   "execution_count": 40,
   "metadata": {},
   "outputs": [],
   "source": [
    "# data_dir = os.path.join(folder_dir, \"Ensemble_pcd100.csv\")\n",
    "# results_df.to_csv(data_dir, index = False)"
   ]
  },
  {
   "cell_type": "code",
   "execution_count": 49,
   "metadata": {},
   "outputs": [],
   "source": [
    "data_dir = os.path.join(folder_dir, \"Ensemble_pcd885.csv\")\n",
    "results_df.to_csv(data_dir, index = False)"
   ]
  },
  {
   "cell_type": "code",
   "execution_count": null,
   "metadata": {},
   "outputs": [],
   "source": []
  }
 ]
}