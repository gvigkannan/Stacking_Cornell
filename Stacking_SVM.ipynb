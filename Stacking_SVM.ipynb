{
 "metadata": {
  "language_info": {
   "codemirror_mode": {
    "name": "ipython",
    "version": 3
   },
   "file_extension": ".py",
   "mimetype": "text/x-python",
   "name": "python",
   "nbconvert_exporter": "python",
   "pygments_lexer": "ipython3",
   "version": "3.8.0"
  },
  "orig_nbformat": 2,
  "kernelspec": {
   "name": "python3",
   "display_name": "Python 3",
   "language": "python"
  }
 },
 "nbformat": 4,
 "nbformat_minor": 2,
 "cells": [
  {
   "cell_type": "code",
   "execution_count": 1,
   "metadata": {},
   "outputs": [],
   "source": [
    "import pandas as pd \n",
    "import numpy as np \n",
    "import pickle"
   ]
  },
  {
   "cell_type": "code",
   "execution_count": 78,
   "metadata": {},
   "outputs": [],
   "source": [
    "from sklearn.svm import SVC, OneClassSVM\n",
    "from sklearn.model_selection import train_test_split\n",
    "from sklearn.metrics import classification_report\n",
    "from sklearn.ensemble import RandomForestClassifier as RFC, IsolationForest as IF"
   ]
  },
  {
   "cell_type": "code",
   "execution_count": 10,
   "metadata": {},
   "outputs": [],
   "source": [
    "## Loading Model Results\n",
    "data_dir = \"/media/gvk/GVK_Elements/github_repo/Ensemble/Stacking_Test/Stacking_Data/Ensemble_pcd885.csv\"\n",
    "results_df= pd.read_csv(data_dir)"
   ]
  },
  {
   "cell_type": "code",
   "execution_count": 11,
   "metadata": {},
   "outputs": [
    {
     "output_type": "execute_result",
     "data": {
      "text/plain": [
       "       fname  color_iou  color_quality  depth_iou  depth_quality  ggcnn_iou  \\\n",
       "0    pcd0100          1       1.051706          1       0.954668          1   \n",
       "1    pcd0101          1       1.045923          1       0.953750          1   \n",
       "2    pcd0102          1       0.929282          1       0.857348          1   \n",
       "3    pcd0103          1       0.993950          1       0.851716          1   \n",
       "4    pcd0104          1       0.945183          1       0.825188          1   \n",
       "..       ...        ...            ...        ...            ...        ...   \n",
       "880  pcd1030          1       0.802078          1       0.495141          0   \n",
       "881  pcd1031          0       0.663789          0       0.968811          1   \n",
       "882  pcd1032          0       0.848007          1       1.020501          1   \n",
       "883  pcd1033          1       0.990940          1       0.660984          1   \n",
       "884  pcd1034          1       0.933815          0       0.809684          0   \n",
       "\n",
       "     ggcnn_quality  ggcnn2_iou  ggcnn2_quality  ground_truth  \n",
       "0         0.789719           1        0.954668             1  \n",
       "1         0.898149           1        0.953750             1  \n",
       "2         0.770612           1        0.857348             1  \n",
       "3         0.901683           1        0.851716             1  \n",
       "4         0.790561           1        0.825188             1  \n",
       "..             ...         ...             ...           ...  \n",
       "880       0.923583           1        0.495141             1  \n",
       "881       0.877918           0        0.968811             1  \n",
       "882       1.065817           1        1.020501             1  \n",
       "883       0.754636           1        0.660984             1  \n",
       "884       0.874258           0        0.809684             1  \n",
       "\n",
       "[885 rows x 10 columns]"
      ],
      "text/html": "<div>\n<style scoped>\n    .dataframe tbody tr th:only-of-type {\n        vertical-align: middle;\n    }\n\n    .dataframe tbody tr th {\n        vertical-align: top;\n    }\n\n    .dataframe thead th {\n        text-align: right;\n    }\n</style>\n<table border=\"1\" class=\"dataframe\">\n  <thead>\n    <tr style=\"text-align: right;\">\n      <th></th>\n      <th>fname</th>\n      <th>color_iou</th>\n      <th>color_quality</th>\n      <th>depth_iou</th>\n      <th>depth_quality</th>\n      <th>ggcnn_iou</th>\n      <th>ggcnn_quality</th>\n      <th>ggcnn2_iou</th>\n      <th>ggcnn2_quality</th>\n      <th>ground_truth</th>\n    </tr>\n  </thead>\n  <tbody>\n    <tr>\n      <th>0</th>\n      <td>pcd0100</td>\n      <td>1</td>\n      <td>1.051706</td>\n      <td>1</td>\n      <td>0.954668</td>\n      <td>1</td>\n      <td>0.789719</td>\n      <td>1</td>\n      <td>0.954668</td>\n      <td>1</td>\n    </tr>\n    <tr>\n      <th>1</th>\n      <td>pcd0101</td>\n      <td>1</td>\n      <td>1.045923</td>\n      <td>1</td>\n      <td>0.953750</td>\n      <td>1</td>\n      <td>0.898149</td>\n      <td>1</td>\n      <td>0.953750</td>\n      <td>1</td>\n    </tr>\n    <tr>\n      <th>2</th>\n      <td>pcd0102</td>\n      <td>1</td>\n      <td>0.929282</td>\n      <td>1</td>\n      <td>0.857348</td>\n      <td>1</td>\n      <td>0.770612</td>\n      <td>1</td>\n      <td>0.857348</td>\n      <td>1</td>\n    </tr>\n    <tr>\n      <th>3</th>\n      <td>pcd0103</td>\n      <td>1</td>\n      <td>0.993950</td>\n      <td>1</td>\n      <td>0.851716</td>\n      <td>1</td>\n      <td>0.901683</td>\n      <td>1</td>\n      <td>0.851716</td>\n      <td>1</td>\n    </tr>\n    <tr>\n      <th>4</th>\n      <td>pcd0104</td>\n      <td>1</td>\n      <td>0.945183</td>\n      <td>1</td>\n      <td>0.825188</td>\n      <td>1</td>\n      <td>0.790561</td>\n      <td>1</td>\n      <td>0.825188</td>\n      <td>1</td>\n    </tr>\n    <tr>\n      <th>...</th>\n      <td>...</td>\n      <td>...</td>\n      <td>...</td>\n      <td>...</td>\n      <td>...</td>\n      <td>...</td>\n      <td>...</td>\n      <td>...</td>\n      <td>...</td>\n      <td>...</td>\n    </tr>\n    <tr>\n      <th>880</th>\n      <td>pcd1030</td>\n      <td>1</td>\n      <td>0.802078</td>\n      <td>1</td>\n      <td>0.495141</td>\n      <td>0</td>\n      <td>0.923583</td>\n      <td>1</td>\n      <td>0.495141</td>\n      <td>1</td>\n    </tr>\n    <tr>\n      <th>881</th>\n      <td>pcd1031</td>\n      <td>0</td>\n      <td>0.663789</td>\n      <td>0</td>\n      <td>0.968811</td>\n      <td>1</td>\n      <td>0.877918</td>\n      <td>0</td>\n      <td>0.968811</td>\n      <td>1</td>\n    </tr>\n    <tr>\n      <th>882</th>\n      <td>pcd1032</td>\n      <td>0</td>\n      <td>0.848007</td>\n      <td>1</td>\n      <td>1.020501</td>\n      <td>1</td>\n      <td>1.065817</td>\n      <td>1</td>\n      <td>1.020501</td>\n      <td>1</td>\n    </tr>\n    <tr>\n      <th>883</th>\n      <td>pcd1033</td>\n      <td>1</td>\n      <td>0.990940</td>\n      <td>1</td>\n      <td>0.660984</td>\n      <td>1</td>\n      <td>0.754636</td>\n      <td>1</td>\n      <td>0.660984</td>\n      <td>1</td>\n    </tr>\n    <tr>\n      <th>884</th>\n      <td>pcd1034</td>\n      <td>1</td>\n      <td>0.933815</td>\n      <td>0</td>\n      <td>0.809684</td>\n      <td>0</td>\n      <td>0.874258</td>\n      <td>0</td>\n      <td>0.809684</td>\n      <td>1</td>\n    </tr>\n  </tbody>\n</table>\n<p>885 rows × 10 columns</p>\n</div>"
     },
     "metadata": {},
     "execution_count": 11
    }
   ],
   "source": [
    "results_df"
   ]
  },
  {
   "cell_type": "code",
   "execution_count": 13,
   "metadata": {},
   "outputs": [],
   "source": [
    "X = results_df.drop(columns= ['fname', 'ground_truth']).to_numpy()\n",
    "y = results_df['ground_truth'].to_numpy()"
   ]
  },
  {
   "cell_type": "code",
   "execution_count": 32,
   "metadata": {},
   "outputs": [],
   "source": [
    "lenX = len(X)\n",
    "ratio = int(0.9 * lenX)\n",
    "inds = np.random.permutation(np.arange(lenX))\n",
    "trainX, testX = X[:ratio], X[ratio:]\n",
    "trainY, testY = y[:ratio], y[ratio:]"
   ]
  },
  {
   "cell_type": "code",
   "execution_count": 66,
   "metadata": {},
   "outputs": [],
   "source": [
    "color_trainY, color_testY = X[:ratio, 0], X[ratio:, 0]\n",
    "depth_trainY, depth_testY = X[:ratio, 2], X[ratio:, 2]\n",
    "ggcnn_trainY,  ggcnn_testY= X[:ratio, 4], X[ratio:, 4]\n",
    "ggcnn2_trainY, ggcnn2_testY = X[:ratio, 6], X[ratio:, 6]\n"
   ]
  },
  {
   "cell_type": "code",
   "execution_count": 71,
   "metadata": {},
   "outputs": [],
   "source": [
    "color_predict = X[:, 0]\n",
    "depth_predict = X[:, 2]\n",
    "ggcnn_predict = X[:, 4]\n",
    "ggcnn2_predict = X[:, 6]"
   ]
  },
  {
   "cell_type": "code",
   "execution_count": 86,
   "metadata": {},
   "outputs": [
    {
     "output_type": "error",
     "ename": "ValueError",
     "evalue": "The number of classes has to be greater than one; got 1 class",
     "traceback": [
      "\u001b[0;31m---------------------------------------------------------------------------\u001b[0m",
      "\u001b[0;31mValueError\u001b[0m                                Traceback (most recent call last)",
      "\u001b[0;32m<ipython-input-86-0401fd789a23>\u001b[0m in \u001b[0;36m<module>\u001b[0;34m\u001b[0m\n\u001b[1;32m      1\u001b[0m \u001b[0mresults_SVC\u001b[0m \u001b[0;34m=\u001b[0m \u001b[0mSVC\u001b[0m\u001b[0;34m(\u001b[0m\u001b[0mrandom_state\u001b[0m \u001b[0;34m=\u001b[0m \u001b[0;36m0\u001b[0m\u001b[0;34m,\u001b[0m  \u001b[0mprobability\u001b[0m \u001b[0;34m=\u001b[0m \u001b[0;32mTrue\u001b[0m\u001b[0;34m)\u001b[0m\u001b[0;34m\u001b[0m\u001b[0;34m\u001b[0m\u001b[0m\n\u001b[0;32m----> 2\u001b[0;31m \u001b[0mresults_SVC\u001b[0m\u001b[0;34m.\u001b[0m\u001b[0mfit\u001b[0m\u001b[0;34m(\u001b[0m\u001b[0mX\u001b[0m \u001b[0;34m=\u001b[0m \u001b[0mtrainX\u001b[0m\u001b[0;34m,\u001b[0m \u001b[0my\u001b[0m \u001b[0;34m=\u001b[0m \u001b[0mtrainY\u001b[0m\u001b[0;34m)\u001b[0m\u001b[0;34m\u001b[0m\u001b[0;34m\u001b[0m\u001b[0m\n\u001b[0m",
      "\u001b[0;32m/media/gvk/GVK_Elements/py_linux/ensemble_dr_linux/lib/python3.8/site-packages/sklearn/svm/_base.py\u001b[0m in \u001b[0;36mfit\u001b[0;34m(self, X, y, sample_weight)\u001b[0m\n\u001b[1;32m    171\u001b[0m                                        accept_large_sparse=False)\n\u001b[1;32m    172\u001b[0m \u001b[0;34m\u001b[0m\u001b[0m\n\u001b[0;32m--> 173\u001b[0;31m         \u001b[0my\u001b[0m \u001b[0;34m=\u001b[0m \u001b[0mself\u001b[0m\u001b[0;34m.\u001b[0m\u001b[0m_validate_targets\u001b[0m\u001b[0;34m(\u001b[0m\u001b[0my\u001b[0m\u001b[0;34m)\u001b[0m\u001b[0;34m\u001b[0m\u001b[0;34m\u001b[0m\u001b[0m\n\u001b[0m\u001b[1;32m    174\u001b[0m \u001b[0;34m\u001b[0m\u001b[0m\n\u001b[1;32m    175\u001b[0m         sample_weight = np.asarray([]\n",
      "\u001b[0;32m/media/gvk/GVK_Elements/py_linux/ensemble_dr_linux/lib/python3.8/site-packages/sklearn/svm/_base.py\u001b[0m in \u001b[0;36m_validate_targets\u001b[0;34m(self, y)\u001b[0m\n\u001b[1;32m    556\u001b[0m                                                   classes=cls, y=y_)\n\u001b[1;32m    557\u001b[0m         \u001b[0;32mif\u001b[0m \u001b[0mlen\u001b[0m\u001b[0;34m(\u001b[0m\u001b[0mcls\u001b[0m\u001b[0;34m)\u001b[0m \u001b[0;34m<\u001b[0m \u001b[0;36m2\u001b[0m\u001b[0;34m:\u001b[0m\u001b[0;34m\u001b[0m\u001b[0;34m\u001b[0m\u001b[0m\n\u001b[0;32m--> 558\u001b[0;31m             raise ValueError(\n\u001b[0m\u001b[1;32m    559\u001b[0m                 \u001b[0;34m\"The number of classes has to be greater than one; got %d\"\u001b[0m\u001b[0;34m\u001b[0m\u001b[0;34m\u001b[0m\u001b[0m\n\u001b[1;32m    560\u001b[0m                 \" class\" % len(cls))\n",
      "\u001b[0;31mValueError\u001b[0m: The number of classes has to be greater than one; got 1 class"
     ]
    }
   ],
   "source": [
    "results_SVC = SVC(random_state = 0,  probability = True)\n",
    "results_SVC.fit(X = trainX, y = trainY)"
   ]
  },
  {
   "cell_type": "code",
   "execution_count": 84,
   "metadata": {},
   "outputs": [
    {
     "output_type": "stream",
     "name": "stdout",
     "text": [
      "              precision    recall  f1-score   support\n",
      "\n",
      "          -1       0.00      0.00      0.00         0\n",
      "           1       1.00      0.47      0.64        89\n",
      "\n",
      "    accuracy                           0.47        89\n",
      "   macro avg       0.50      0.24      0.32        89\n",
      "weighted avg       1.00      0.47      0.64        89\n",
      "\n",
      "/media/gvk/GVK_Elements/py_linux/ensemble_dr_linux/lib/python3.8/site-packages/sklearn/metrics/_classification.py:1245: UndefinedMetricWarning: Recall and F-score are ill-defined and being set to 0.0 in labels with no true samples. Use `zero_division` parameter to control this behavior.\n",
      "  _warn_prf(average, modifier, msg_start, len(result))\n",
      "/media/gvk/GVK_Elements/py_linux/ensemble_dr_linux/lib/python3.8/site-packages/sklearn/metrics/_classification.py:1245: UndefinedMetricWarning: Recall and F-score are ill-defined and being set to 0.0 in labels with no true samples. Use `zero_division` parameter to control this behavior.\n",
      "  _warn_prf(average, modifier, msg_start, len(result))\n",
      "/media/gvk/GVK_Elements/py_linux/ensemble_dr_linux/lib/python3.8/site-packages/sklearn/metrics/_classification.py:1245: UndefinedMetricWarning: Recall and F-score are ill-defined and being set to 0.0 in labels with no true samples. Use `zero_division` parameter to control this behavior.\n",
      "  _warn_prf(average, modifier, msg_start, len(result))\n"
     ]
    }
   ],
   "source": [
    "## Once Class SVM\n",
    "results_OCSVC = OneClassSVM()\n",
    "results_OCSVC.fit(X = trainX, y = trainY)\n",
    "predictY_OCSVC = results_OCSVC.predict(X = testX)\n",
    "print(classification_report(testY, predictY_OCSVC))"
   ]
  },
  {
   "cell_type": "code",
   "execution_count": 85,
   "metadata": {},
   "outputs": [
    {
     "output_type": "stream",
     "name": "stdout",
     "text": [
      "              precision    recall  f1-score   support\n\n           1       1.00      1.00      1.00        89\n\n    accuracy                           1.00        89\n   macro avg       1.00      1.00      1.00        89\nweighted avg       1.00      1.00      1.00        89\n\n"
     ]
    }
   ],
   "source": [
    "## Random Forest\n",
    "results_RFC = RFC(random_state = 0)\n",
    "results_RFC.fit(X = trainX, y = trainY)\n",
    "predictY_RFC = results_RFC.predict(X = testX)\n",
    "print(classification_report(testY, predictY_RFC))"
   ]
  },
  {
   "cell_type": "code",
   "execution_count": 83,
   "metadata": {},
   "outputs": [
    {
     "output_type": "stream",
     "name": "stdout",
     "text": [
      "              precision    recall  f1-score   support\n",
      "\n",
      "          -1       0.00      0.00      0.00         0\n",
      "           1       1.00      0.58      0.74        89\n",
      "\n",
      "    accuracy                           0.58        89\n",
      "   macro avg       0.50      0.29      0.37        89\n",
      "weighted avg       1.00      0.58      0.74        89\n",
      "\n",
      "/media/gvk/GVK_Elements/py_linux/ensemble_dr_linux/lib/python3.8/site-packages/sklearn/metrics/_classification.py:1245: UndefinedMetricWarning: Recall and F-score are ill-defined and being set to 0.0 in labels with no true samples. Use `zero_division` parameter to control this behavior.\n",
      "  _warn_prf(average, modifier, msg_start, len(result))\n",
      "/media/gvk/GVK_Elements/py_linux/ensemble_dr_linux/lib/python3.8/site-packages/sklearn/metrics/_classification.py:1245: UndefinedMetricWarning: Recall and F-score are ill-defined and being set to 0.0 in labels with no true samples. Use `zero_division` parameter to control this behavior.\n",
      "  _warn_prf(average, modifier, msg_start, len(result))\n",
      "/media/gvk/GVK_Elements/py_linux/ensemble_dr_linux/lib/python3.8/site-packages/sklearn/metrics/_classification.py:1245: UndefinedMetricWarning: Recall and F-score are ill-defined and being set to 0.0 in labels with no true samples. Use `zero_division` parameter to control this behavior.\n",
      "  _warn_prf(average, modifier, msg_start, len(result))\n"
     ]
    }
   ],
   "source": [
    "## Isolation Forest\n",
    "results_IF = IF(random_state = 0)\n",
    "results_IF.fit(X = trainX, y = trainY)\n",
    "predictY_IF = results_IF.predict(X = testX)\n",
    "print(classification_report(testY, predictY_IF))"
   ]
  },
  {
   "cell_type": "code",
   "execution_count": 73,
   "metadata": {},
   "outputs": [
    {
     "output_type": "stream",
     "name": "stdout",
     "text": [
      "              precision    recall  f1-score   support\n",
      "\n",
      "         0.0       0.00      0.00      0.00         0\n",
      "         1.0       1.00      0.86      0.92       885\n",
      "\n",
      "    accuracy                           0.86       885\n",
      "   macro avg       0.50      0.43      0.46       885\n",
      "weighted avg       1.00      0.86      0.92       885\n",
      "\n",
      "/media/gvk/GVK_Elements/py_linux/ensemble_dr_linux/lib/python3.8/site-packages/sklearn/metrics/_classification.py:1245: UndefinedMetricWarning: Recall and F-score are ill-defined and being set to 0.0 in labels with no true samples. Use `zero_division` parameter to control this behavior.\n",
      "  _warn_prf(average, modifier, msg_start, len(result))\n",
      "/media/gvk/GVK_Elements/py_linux/ensemble_dr_linux/lib/python3.8/site-packages/sklearn/metrics/_classification.py:1245: UndefinedMetricWarning: Recall and F-score are ill-defined and being set to 0.0 in labels with no true samples. Use `zero_division` parameter to control this behavior.\n",
      "  _warn_prf(average, modifier, msg_start, len(result))\n",
      "/media/gvk/GVK_Elements/py_linux/ensemble_dr_linux/lib/python3.8/site-packages/sklearn/metrics/_classification.py:1245: UndefinedMetricWarning: Recall and F-score are ill-defined and being set to 0.0 in labels with no true samples. Use `zero_division` parameter to control this behavior.\n",
      "  _warn_prf(average, modifier, msg_start, len(result))\n"
     ]
    }
   ],
   "source": [
    "## For Fadi Color Images\n",
    "print(classification_report(y, color_predict))"
   ]
  },
  {
   "cell_type": "code",
   "execution_count": 74,
   "metadata": {},
   "outputs": [
    {
     "output_type": "stream",
     "name": "stdout",
     "text": [
      "              precision    recall  f1-score   support\n",
      "\n",
      "         0.0       0.00      0.00      0.00         0\n",
      "         1.0       1.00      0.76      0.86       885\n",
      "\n",
      "    accuracy                           0.76       885\n",
      "   macro avg       0.50      0.38      0.43       885\n",
      "weighted avg       1.00      0.76      0.86       885\n",
      "\n",
      "/media/gvk/GVK_Elements/py_linux/ensemble_dr_linux/lib/python3.8/site-packages/sklearn/metrics/_classification.py:1245: UndefinedMetricWarning: Recall and F-score are ill-defined and being set to 0.0 in labels with no true samples. Use `zero_division` parameter to control this behavior.\n",
      "  _warn_prf(average, modifier, msg_start, len(result))\n",
      "/media/gvk/GVK_Elements/py_linux/ensemble_dr_linux/lib/python3.8/site-packages/sklearn/metrics/_classification.py:1245: UndefinedMetricWarning: Recall and F-score are ill-defined and being set to 0.0 in labels with no true samples. Use `zero_division` parameter to control this behavior.\n",
      "  _warn_prf(average, modifier, msg_start, len(result))\n",
      "/media/gvk/GVK_Elements/py_linux/ensemble_dr_linux/lib/python3.8/site-packages/sklearn/metrics/_classification.py:1245: UndefinedMetricWarning: Recall and F-score are ill-defined and being set to 0.0 in labels with no true samples. Use `zero_division` parameter to control this behavior.\n",
      "  _warn_prf(average, modifier, msg_start, len(result))\n"
     ]
    }
   ],
   "source": [
    "## For Fadi Depth Images\n",
    "print(classification_report(y, depth_predict))"
   ]
  },
  {
   "cell_type": "code",
   "execution_count": 75,
   "metadata": {},
   "outputs": [
    {
     "output_type": "stream",
     "name": "stdout",
     "text": [
      "              precision    recall  f1-score   support\n",
      "\n",
      "         0.0       0.00      0.00      0.00         0\n",
      "         1.0       1.00      0.66      0.80       885\n",
      "\n",
      "    accuracy                           0.66       885\n",
      "   macro avg       0.50      0.33      0.40       885\n",
      "weighted avg       1.00      0.66      0.80       885\n",
      "\n",
      "/media/gvk/GVK_Elements/py_linux/ensemble_dr_linux/lib/python3.8/site-packages/sklearn/metrics/_classification.py:1245: UndefinedMetricWarning: Recall and F-score are ill-defined and being set to 0.0 in labels with no true samples. Use `zero_division` parameter to control this behavior.\n",
      "  _warn_prf(average, modifier, msg_start, len(result))\n",
      "/media/gvk/GVK_Elements/py_linux/ensemble_dr_linux/lib/python3.8/site-packages/sklearn/metrics/_classification.py:1245: UndefinedMetricWarning: Recall and F-score are ill-defined and being set to 0.0 in labels with no true samples. Use `zero_division` parameter to control this behavior.\n",
      "  _warn_prf(average, modifier, msg_start, len(result))\n",
      "/media/gvk/GVK_Elements/py_linux/ensemble_dr_linux/lib/python3.8/site-packages/sklearn/metrics/_classification.py:1245: UndefinedMetricWarning: Recall and F-score are ill-defined and being set to 0.0 in labels with no true samples. Use `zero_division` parameter to control this behavior.\n",
      "  _warn_prf(average, modifier, msg_start, len(result))\n"
     ]
    }
   ],
   "source": [
    "## For GGCNN Depth Images\n",
    "print(classification_report(y, ggcnn_predict))"
   ]
  },
  {
   "cell_type": "code",
   "execution_count": 76,
   "metadata": {},
   "outputs": [
    {
     "output_type": "stream",
     "name": "stdout",
     "text": [
      "              precision    recall  f1-score   support\n",
      "\n",
      "         0.0       0.00      0.00      0.00         0\n",
      "         1.0       1.00      0.76      0.86       885\n",
      "\n",
      "    accuracy                           0.76       885\n",
      "   macro avg       0.50      0.38      0.43       885\n",
      "weighted avg       1.00      0.76      0.86       885\n",
      "\n",
      "/media/gvk/GVK_Elements/py_linux/ensemble_dr_linux/lib/python3.8/site-packages/sklearn/metrics/_classification.py:1245: UndefinedMetricWarning: Recall and F-score are ill-defined and being set to 0.0 in labels with no true samples. Use `zero_division` parameter to control this behavior.\n",
      "  _warn_prf(average, modifier, msg_start, len(result))\n",
      "/media/gvk/GVK_Elements/py_linux/ensemble_dr_linux/lib/python3.8/site-packages/sklearn/metrics/_classification.py:1245: UndefinedMetricWarning: Recall and F-score are ill-defined and being set to 0.0 in labels with no true samples. Use `zero_division` parameter to control this behavior.\n",
      "  _warn_prf(average, modifier, msg_start, len(result))\n",
      "/media/gvk/GVK_Elements/py_linux/ensemble_dr_linux/lib/python3.8/site-packages/sklearn/metrics/_classification.py:1245: UndefinedMetricWarning: Recall and F-score are ill-defined and being set to 0.0 in labels with no true samples. Use `zero_division` parameter to control this behavior.\n",
      "  _warn_prf(average, modifier, msg_start, len(result))\n"
     ]
    }
   ],
   "source": [
    "## For GGCNN2 Depth Images\n",
    "print(classification_report(y, ggcnn2_predict))"
   ]
  },
  {
   "cell_type": "code",
   "execution_count": null,
   "metadata": {},
   "outputs": [],
   "source": []
  }
 ]
}