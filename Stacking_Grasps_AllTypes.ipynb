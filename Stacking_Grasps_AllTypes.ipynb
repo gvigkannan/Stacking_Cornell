{
 "metadata": {
  "language_info": {
   "codemirror_mode": {
    "name": "ipython",
    "version": 3
   },
   "file_extension": ".py",
   "mimetype": "text/x-python",
   "name": "python",
   "nbconvert_exporter": "python",
   "pygments_lexer": "ipython3",
   "version": "3.8.0"
  },
  "orig_nbformat": 2,
  "kernelspec": {
   "name": "python380jvsc74a57bd06cf9bee30d277199a80153220137b84c65350a750d0350a850082f44e7ac5f43",
   "display_name": "Python 3.8.0 64-bit ('ensemble_dr_linux': venv)"
  }
 },
 "nbformat": 4,
 "nbformat_minor": 2,
 "cells": [
  {
   "cell_type": "code",
   "execution_count": 1,
   "metadata": {},
   "outputs": [],
   "source": [
    "## Stacking Grasps!\n",
    "import pandas as pd \n",
    "import numpy as np \n",
    "import pickle"
   ]
  },
  {
   "cell_type": "code",
   "execution_count": 2,
   "metadata": {},
   "outputs": [],
   "source": [
    "from sklearn.svm import SVC, OneClassSVM\n",
    "from sklearn.model_selection import train_test_split\n",
    "from sklearn.metrics import classification_report\n",
    "from sklearn.ensemble import RandomForestClassifier as RFC, IsolationForest as IF"
   ]
  },
  {
   "cell_type": "code",
   "execution_count": 3,
   "metadata": {},
   "outputs": [],
   "source": [
    "from lightgbm import LGBMClassifier as LGBC\n",
    "from xgboost import XGBClassifier as XGBC"
   ]
  },
  {
   "cell_type": "code",
   "execution_count": 4,
   "metadata": {},
   "outputs": [],
   "source": [
    "## Loading Model Results\n",
    "data_dir = \"/media/gvk/GVK_Elements/github_repo/Stacking_Grasp/Merged_Results_AllTypes.csv\"\n",
    "results_df= pd.read_csv(data_dir)"
   ]
  },
  {
   "cell_type": "code",
   "execution_count": 5,
   "metadata": {},
   "outputs": [
    {
     "output_type": "execute_result",
     "data": {
      "text/plain": [
       "      Unnamed: 0                                  Grasp_ID  Color_IoU  \\\n",
       "0              0  Positive_pcd0100_ModelGrasp_0_GT_Grasp_0   0.283525   \n",
       "1              1  Positive_pcd0100_ModelGrasp_0_GT_Grasp_1   0.448869   \n",
       "2              2  Positive_pcd0100_ModelGrasp_0_GT_Grasp_2   0.048695   \n",
       "3              3  Positive_pcd0100_ModelGrasp_0_GT_Grasp_3   0.000000   \n",
       "4              4  Positive_pcd0101_ModelGrasp_0_GT_Grasp_0   0.000000   \n",
       "...          ...                                       ...        ...   \n",
       "7225        2674  Negative_pcd1033_ModelGrasp_0_GT_Grasp_4   0.000000   \n",
       "7226        2675  Negative_pcd1034_ModelGrasp_0_GT_Grasp_0   0.503114   \n",
       "7227        2676  Negative_pcd1034_ModelGrasp_0_GT_Grasp_1   0.000000   \n",
       "7228        2677  Negative_pcd1034_ModelGrasp_0_GT_Grasp_2   0.000000   \n",
       "7229        2678  Negative_pcd1034_ModelGrasp_0_GT_Grasp_3   0.000000   \n",
       "\n",
       "      Color_Positive  Depth_IoU  Depth_Positive  GGCNN2_IoU  GGCNN2_Positive  \\\n",
       "0               True   0.000000           False    0.000000            False   \n",
       "1               True   0.111162           False    0.056329            False   \n",
       "2              False   0.343457            True    0.249125            False   \n",
       "3              False   0.355614            True    0.436653             True   \n",
       "4              False   0.019095           False    0.000000            False   \n",
       "...              ...        ...             ...         ...              ...   \n",
       "7225           False   0.000000           False    0.000000            False   \n",
       "7226           False   0.319620           False    0.226308            False   \n",
       "7227           False   0.000000           False    0.000000            False   \n",
       "7228           False   0.000000           False    0.000000            False   \n",
       "7229           False   0.000000           False    0.000000            False   \n",
       "\n",
       "      GGCNN_IoU  GGCNN_Positive  Color_Negative  Depth_Negative  \\\n",
       "0      0.000000           False           False           False   \n",
       "1      0.111162           False           False           False   \n",
       "2      0.343457            True           False           False   \n",
       "3      0.355614            True           False           False   \n",
       "4      0.019095           False           False           False   \n",
       "...         ...             ...             ...             ...   \n",
       "7225   0.000000           False           False           False   \n",
       "7226   0.319620           False            True            True   \n",
       "7227   0.000000           False           False           False   \n",
       "7228   0.000000           False           False           False   \n",
       "7229   0.000000           False           False           False   \n",
       "\n",
       "      GGCNN2_Negative  GGCNN_Negative  Grasp_Type  \n",
       "0               False           False           1  \n",
       "1               False           False           1  \n",
       "2               False           False           1  \n",
       "3               False           False           1  \n",
       "4               False           False           1  \n",
       "...               ...             ...         ...  \n",
       "7225            False           False          -1  \n",
       "7226            False            True          -1  \n",
       "7227            False           False          -1  \n",
       "7228            False           False          -1  \n",
       "7229            False           False          -1  \n",
       "\n",
       "[7230 rows x 15 columns]"
      ],
      "text/html": "<div>\n<style scoped>\n    .dataframe tbody tr th:only-of-type {\n        vertical-align: middle;\n    }\n\n    .dataframe tbody tr th {\n        vertical-align: top;\n    }\n\n    .dataframe thead th {\n        text-align: right;\n    }\n</style>\n<table border=\"1\" class=\"dataframe\">\n  <thead>\n    <tr style=\"text-align: right;\">\n      <th></th>\n      <th>Unnamed: 0</th>\n      <th>Grasp_ID</th>\n      <th>Color_IoU</th>\n      <th>Color_Positive</th>\n      <th>Depth_IoU</th>\n      <th>Depth_Positive</th>\n      <th>GGCNN2_IoU</th>\n      <th>GGCNN2_Positive</th>\n      <th>GGCNN_IoU</th>\n      <th>GGCNN_Positive</th>\n      <th>Color_Negative</th>\n      <th>Depth_Negative</th>\n      <th>GGCNN2_Negative</th>\n      <th>GGCNN_Negative</th>\n      <th>Grasp_Type</th>\n    </tr>\n  </thead>\n  <tbody>\n    <tr>\n      <th>0</th>\n      <td>0</td>\n      <td>Positive_pcd0100_ModelGrasp_0_GT_Grasp_0</td>\n      <td>0.283525</td>\n      <td>True</td>\n      <td>0.000000</td>\n      <td>False</td>\n      <td>0.000000</td>\n      <td>False</td>\n      <td>0.000000</td>\n      <td>False</td>\n      <td>False</td>\n      <td>False</td>\n      <td>False</td>\n      <td>False</td>\n      <td>1</td>\n    </tr>\n    <tr>\n      <th>1</th>\n      <td>1</td>\n      <td>Positive_pcd0100_ModelGrasp_0_GT_Grasp_1</td>\n      <td>0.448869</td>\n      <td>True</td>\n      <td>0.111162</td>\n      <td>False</td>\n      <td>0.056329</td>\n      <td>False</td>\n      <td>0.111162</td>\n      <td>False</td>\n      <td>False</td>\n      <td>False</td>\n      <td>False</td>\n      <td>False</td>\n      <td>1</td>\n    </tr>\n    <tr>\n      <th>2</th>\n      <td>2</td>\n      <td>Positive_pcd0100_ModelGrasp_0_GT_Grasp_2</td>\n      <td>0.048695</td>\n      <td>False</td>\n      <td>0.343457</td>\n      <td>True</td>\n      <td>0.249125</td>\n      <td>False</td>\n      <td>0.343457</td>\n      <td>True</td>\n      <td>False</td>\n      <td>False</td>\n      <td>False</td>\n      <td>False</td>\n      <td>1</td>\n    </tr>\n    <tr>\n      <th>3</th>\n      <td>3</td>\n      <td>Positive_pcd0100_ModelGrasp_0_GT_Grasp_3</td>\n      <td>0.000000</td>\n      <td>False</td>\n      <td>0.355614</td>\n      <td>True</td>\n      <td>0.436653</td>\n      <td>True</td>\n      <td>0.355614</td>\n      <td>True</td>\n      <td>False</td>\n      <td>False</td>\n      <td>False</td>\n      <td>False</td>\n      <td>1</td>\n    </tr>\n    <tr>\n      <th>4</th>\n      <td>4</td>\n      <td>Positive_pcd0101_ModelGrasp_0_GT_Grasp_0</td>\n      <td>0.000000</td>\n      <td>False</td>\n      <td>0.019095</td>\n      <td>False</td>\n      <td>0.000000</td>\n      <td>False</td>\n      <td>0.019095</td>\n      <td>False</td>\n      <td>False</td>\n      <td>False</td>\n      <td>False</td>\n      <td>False</td>\n      <td>1</td>\n    </tr>\n    <tr>\n      <th>...</th>\n      <td>...</td>\n      <td>...</td>\n      <td>...</td>\n      <td>...</td>\n      <td>...</td>\n      <td>...</td>\n      <td>...</td>\n      <td>...</td>\n      <td>...</td>\n      <td>...</td>\n      <td>...</td>\n      <td>...</td>\n      <td>...</td>\n      <td>...</td>\n      <td>...</td>\n    </tr>\n    <tr>\n      <th>7225</th>\n      <td>2674</td>\n      <td>Negative_pcd1033_ModelGrasp_0_GT_Grasp_4</td>\n      <td>0.000000</td>\n      <td>False</td>\n      <td>0.000000</td>\n      <td>False</td>\n      <td>0.000000</td>\n      <td>False</td>\n      <td>0.000000</td>\n      <td>False</td>\n      <td>False</td>\n      <td>False</td>\n      <td>False</td>\n      <td>False</td>\n      <td>-1</td>\n    </tr>\n    <tr>\n      <th>7226</th>\n      <td>2675</td>\n      <td>Negative_pcd1034_ModelGrasp_0_GT_Grasp_0</td>\n      <td>0.503114</td>\n      <td>False</td>\n      <td>0.319620</td>\n      <td>False</td>\n      <td>0.226308</td>\n      <td>False</td>\n      <td>0.319620</td>\n      <td>False</td>\n      <td>True</td>\n      <td>True</td>\n      <td>False</td>\n      <td>True</td>\n      <td>-1</td>\n    </tr>\n    <tr>\n      <th>7227</th>\n      <td>2676</td>\n      <td>Negative_pcd1034_ModelGrasp_0_GT_Grasp_1</td>\n      <td>0.000000</td>\n      <td>False</td>\n      <td>0.000000</td>\n      <td>False</td>\n      <td>0.000000</td>\n      <td>False</td>\n      <td>0.000000</td>\n      <td>False</td>\n      <td>False</td>\n      <td>False</td>\n      <td>False</td>\n      <td>False</td>\n      <td>-1</td>\n    </tr>\n    <tr>\n      <th>7228</th>\n      <td>2677</td>\n      <td>Negative_pcd1034_ModelGrasp_0_GT_Grasp_2</td>\n      <td>0.000000</td>\n      <td>False</td>\n      <td>0.000000</td>\n      <td>False</td>\n      <td>0.000000</td>\n      <td>False</td>\n      <td>0.000000</td>\n      <td>False</td>\n      <td>False</td>\n      <td>False</td>\n      <td>False</td>\n      <td>False</td>\n      <td>-1</td>\n    </tr>\n    <tr>\n      <th>7229</th>\n      <td>2678</td>\n      <td>Negative_pcd1034_ModelGrasp_0_GT_Grasp_3</td>\n      <td>0.000000</td>\n      <td>False</td>\n      <td>0.000000</td>\n      <td>False</td>\n      <td>0.000000</td>\n      <td>False</td>\n      <td>0.000000</td>\n      <td>False</td>\n      <td>False</td>\n      <td>False</td>\n      <td>False</td>\n      <td>False</td>\n      <td>-1</td>\n    </tr>\n  </tbody>\n</table>\n<p>7230 rows × 15 columns</p>\n</div>"
     },
     "metadata": {},
     "execution_count": 5
    }
   ],
   "source": [
    "results_df"
   ]
  },
  {
   "cell_type": "code",
   "execution_count": 6,
   "metadata": {},
   "outputs": [],
   "source": [
    "X = results_df.drop(columns = ['Unnamed: 0', 'Grasp_ID', 'Grasp_Type'])\n",
    "y = results_df['Grasp_Type']"
   ]
  },
  {
   "cell_type": "code",
   "execution_count": 7,
   "metadata": {},
   "outputs": [
    {
     "output_type": "execute_result",
     "data": {
      "text/plain": [
       "      Color_IoU  Color_Positive  Depth_IoU  Depth_Positive  GGCNN2_IoU  \\\n",
       "0      0.283525            True   0.000000           False    0.000000   \n",
       "1      0.448869            True   0.111162           False    0.056329   \n",
       "2      0.048695           False   0.343457            True    0.249125   \n",
       "3      0.000000           False   0.355614            True    0.436653   \n",
       "4      0.000000           False   0.019095           False    0.000000   \n",
       "...         ...             ...        ...             ...         ...   \n",
       "7225   0.000000           False   0.000000           False    0.000000   \n",
       "7226   0.503114           False   0.319620           False    0.226308   \n",
       "7227   0.000000           False   0.000000           False    0.000000   \n",
       "7228   0.000000           False   0.000000           False    0.000000   \n",
       "7229   0.000000           False   0.000000           False    0.000000   \n",
       "\n",
       "      GGCNN2_Positive  GGCNN_IoU  GGCNN_Positive  Color_Negative  \\\n",
       "0               False   0.000000           False           False   \n",
       "1               False   0.111162           False           False   \n",
       "2               False   0.343457            True           False   \n",
       "3                True   0.355614            True           False   \n",
       "4               False   0.019095           False           False   \n",
       "...               ...        ...             ...             ...   \n",
       "7225            False   0.000000           False           False   \n",
       "7226            False   0.319620           False            True   \n",
       "7227            False   0.000000           False           False   \n",
       "7228            False   0.000000           False           False   \n",
       "7229            False   0.000000           False           False   \n",
       "\n",
       "      Depth_Negative  GGCNN2_Negative  GGCNN_Negative  \n",
       "0              False            False           False  \n",
       "1              False            False           False  \n",
       "2              False            False           False  \n",
       "3              False            False           False  \n",
       "4              False            False           False  \n",
       "...              ...              ...             ...  \n",
       "7225           False            False           False  \n",
       "7226            True            False            True  \n",
       "7227           False            False           False  \n",
       "7228           False            False           False  \n",
       "7229           False            False           False  \n",
       "\n",
       "[7230 rows x 12 columns]"
      ],
      "text/html": "<div>\n<style scoped>\n    .dataframe tbody tr th:only-of-type {\n        vertical-align: middle;\n    }\n\n    .dataframe tbody tr th {\n        vertical-align: top;\n    }\n\n    .dataframe thead th {\n        text-align: right;\n    }\n</style>\n<table border=\"1\" class=\"dataframe\">\n  <thead>\n    <tr style=\"text-align: right;\">\n      <th></th>\n      <th>Color_IoU</th>\n      <th>Color_Positive</th>\n      <th>Depth_IoU</th>\n      <th>Depth_Positive</th>\n      <th>GGCNN2_IoU</th>\n      <th>GGCNN2_Positive</th>\n      <th>GGCNN_IoU</th>\n      <th>GGCNN_Positive</th>\n      <th>Color_Negative</th>\n      <th>Depth_Negative</th>\n      <th>GGCNN2_Negative</th>\n      <th>GGCNN_Negative</th>\n    </tr>\n  </thead>\n  <tbody>\n    <tr>\n      <th>0</th>\n      <td>0.283525</td>\n      <td>True</td>\n      <td>0.000000</td>\n      <td>False</td>\n      <td>0.000000</td>\n      <td>False</td>\n      <td>0.000000</td>\n      <td>False</td>\n      <td>False</td>\n      <td>False</td>\n      <td>False</td>\n      <td>False</td>\n    </tr>\n    <tr>\n      <th>1</th>\n      <td>0.448869</td>\n      <td>True</td>\n      <td>0.111162</td>\n      <td>False</td>\n      <td>0.056329</td>\n      <td>False</td>\n      <td>0.111162</td>\n      <td>False</td>\n      <td>False</td>\n      <td>False</td>\n      <td>False</td>\n      <td>False</td>\n    </tr>\n    <tr>\n      <th>2</th>\n      <td>0.048695</td>\n      <td>False</td>\n      <td>0.343457</td>\n      <td>True</td>\n      <td>0.249125</td>\n      <td>False</td>\n      <td>0.343457</td>\n      <td>True</td>\n      <td>False</td>\n      <td>False</td>\n      <td>False</td>\n      <td>False</td>\n    </tr>\n    <tr>\n      <th>3</th>\n      <td>0.000000</td>\n      <td>False</td>\n      <td>0.355614</td>\n      <td>True</td>\n      <td>0.436653</td>\n      <td>True</td>\n      <td>0.355614</td>\n      <td>True</td>\n      <td>False</td>\n      <td>False</td>\n      <td>False</td>\n      <td>False</td>\n    </tr>\n    <tr>\n      <th>4</th>\n      <td>0.000000</td>\n      <td>False</td>\n      <td>0.019095</td>\n      <td>False</td>\n      <td>0.000000</td>\n      <td>False</td>\n      <td>0.019095</td>\n      <td>False</td>\n      <td>False</td>\n      <td>False</td>\n      <td>False</td>\n      <td>False</td>\n    </tr>\n    <tr>\n      <th>...</th>\n      <td>...</td>\n      <td>...</td>\n      <td>...</td>\n      <td>...</td>\n      <td>...</td>\n      <td>...</td>\n      <td>...</td>\n      <td>...</td>\n      <td>...</td>\n      <td>...</td>\n      <td>...</td>\n      <td>...</td>\n    </tr>\n    <tr>\n      <th>7225</th>\n      <td>0.000000</td>\n      <td>False</td>\n      <td>0.000000</td>\n      <td>False</td>\n      <td>0.000000</td>\n      <td>False</td>\n      <td>0.000000</td>\n      <td>False</td>\n      <td>False</td>\n      <td>False</td>\n      <td>False</td>\n      <td>False</td>\n    </tr>\n    <tr>\n      <th>7226</th>\n      <td>0.503114</td>\n      <td>False</td>\n      <td>0.319620</td>\n      <td>False</td>\n      <td>0.226308</td>\n      <td>False</td>\n      <td>0.319620</td>\n      <td>False</td>\n      <td>True</td>\n      <td>True</td>\n      <td>False</td>\n      <td>True</td>\n    </tr>\n    <tr>\n      <th>7227</th>\n      <td>0.000000</td>\n      <td>False</td>\n      <td>0.000000</td>\n      <td>False</td>\n      <td>0.000000</td>\n      <td>False</td>\n      <td>0.000000</td>\n      <td>False</td>\n      <td>False</td>\n      <td>False</td>\n      <td>False</td>\n      <td>False</td>\n    </tr>\n    <tr>\n      <th>7228</th>\n      <td>0.000000</td>\n      <td>False</td>\n      <td>0.000000</td>\n      <td>False</td>\n      <td>0.000000</td>\n      <td>False</td>\n      <td>0.000000</td>\n      <td>False</td>\n      <td>False</td>\n      <td>False</td>\n      <td>False</td>\n      <td>False</td>\n    </tr>\n    <tr>\n      <th>7229</th>\n      <td>0.000000</td>\n      <td>False</td>\n      <td>0.000000</td>\n      <td>False</td>\n      <td>0.000000</td>\n      <td>False</td>\n      <td>0.000000</td>\n      <td>False</td>\n      <td>False</td>\n      <td>False</td>\n      <td>False</td>\n      <td>False</td>\n    </tr>\n  </tbody>\n</table>\n<p>7230 rows × 12 columns</p>\n</div>"
     },
     "metadata": {},
     "execution_count": 7
    }
   ],
   "source": [
    "X"
   ]
  },
  {
   "cell_type": "code",
   "execution_count": 98,
   "metadata": {},
   "outputs": [],
   "source": [
    "## Data Preprocessing\n",
    "# lenX = len(X)\n",
    "# ratio = int(0.9 * lenX)\n",
    "# inds = np.random.permutation(np.arange(lenX))\n",
    "# trainX, testX = X[:ratio], X[ratio:]\n",
    "# trainY, testY = y[:ratio], y[ratio:]\n",
    "random_state = 42\n",
    "test_size = 0.01\n",
    "trainX, testX, trainY, testY =  train_test_split(X, y, test_size = test_size, random_state = random_state)"
   ]
  },
  {
   "cell_type": "code",
   "execution_count": 99,
   "metadata": {},
   "outputs": [
    {
     "output_type": "stream",
     "name": "stdout",
     "text": [
      "Test_size:  0.01\n",
      "              precision    recall  f1-score   support\n",
      "\n",
      "          -1       0.44      0.84      0.58        19\n",
      "           1       0.92      0.63      0.75        54\n",
      "\n",
      "    accuracy                           0.68        73\n",
      "   macro avg       0.68      0.74      0.66        73\n",
      "weighted avg       0.80      0.68      0.70        73\n",
      "\n"
     ]
    }
   ],
   "source": [
    "print(\"Test_size: \", test_size)\n",
    "results_SVC = SVC(random_state = random_state,  probability = True)\n",
    "results_SVC.fit(X = trainX, y = trainY)\n",
    "predictY = results_SVC.predict(testX)\n",
    "print(classification_report(testY, predictY))"
   ]
  },
  {
   "cell_type": "code",
   "execution_count": 100,
   "metadata": {},
   "outputs": [
    {
     "output_type": "stream",
     "name": "stdout",
     "text": [
      "Test_size:  0.01\n              precision    recall  f1-score   support\n\n          -1       0.50      0.79      0.61        19\n           1       0.91      0.72      0.80        54\n\n    accuracy                           0.74        73\n   macro avg       0.70      0.76      0.71        73\nweighted avg       0.80      0.74      0.75        73\n\n"
     ]
    }
   ],
   "source": [
    "## LGBM\n",
    "print(\"Test_size: \", test_size)\n",
    "results_LGBC = LGBC(random_state = random_state)\n",
    "results_LGBC.fit(X = trainX, y = trainY)\n",
    "predictY_LGBC = results_LGBC.predict(X = testX)\n",
    "print(classification_report(testY, predictY_LGBC))"
   ]
  },
  {
   "cell_type": "code",
   "execution_count": 101,
   "metadata": {},
   "outputs": [
    {
     "output_type": "stream",
     "name": "stdout",
     "text": [
      "Test_size:  0.01\n",
      "[02:41:44] WARNING: ../src/learner.cc:1061: Starting in XGBoost 1.3.0, the default evaluation metric used with the objective 'binary:logistic' was changed from 'error' to 'logloss'. Explicitly set eval_metric if you'd like to restore the old behavior.\n",
      "/media/gvk/GVK_Elements/py_linux/ensemble_dr_linux/lib/python3.8/site-packages/xgboost/sklearn.py:888: UserWarning: The use of label encoder in XGBClassifier is deprecated and will be removed in a future release. To remove this warning, do the following: 1) Pass option use_label_encoder=False when constructing XGBClassifier object; and 2) Encode your labels (y) as integers starting with 0, i.e. 0, 1, 2, ..., [num_class - 1].\n",
      "  warnings.warn(label_encoder_deprecation_msg, UserWarning)\n",
      "              precision    recall  f1-score   support\n",
      "\n",
      "          -1       0.50      0.84      0.63        19\n",
      "           1       0.93      0.70      0.80        54\n",
      "\n",
      "    accuracy                           0.74        73\n",
      "   macro avg       0.71      0.77      0.71        73\n",
      "weighted avg       0.82      0.74      0.76        73\n",
      "\n"
     ]
    }
   ],
   "source": [
    "## XGBoost\n",
    "print(\"Test_size: \", test_size)\n",
    "results_XGBC = XGBC(random_state = random_state)\n",
    "results_XGBC.fit(X = trainX, y = trainY)\n",
    "predictY_XGBC = results_XGBC.predict(testX)\n",
    "print(classification_report(testY, predictY_XGBC))"
   ]
  },
  {
   "cell_type": "code",
   "execution_count": 102,
   "metadata": {},
   "outputs": [
    {
     "output_type": "stream",
     "name": "stdout",
     "text": [
      "Test_size:  0.01\n",
      "              precision    recall  f1-score   support\n",
      "\n",
      "          -1       0.48      0.84      0.62        19\n",
      "           1       0.93      0.69      0.79        54\n",
      "\n",
      "    accuracy                           0.73        73\n",
      "   macro avg       0.70      0.76      0.70        73\n",
      "weighted avg       0.81      0.73      0.74        73\n",
      "\n"
     ]
    }
   ],
   "source": [
    "## Random Forest\n",
    "print(\"Test_size: \", test_size)\n",
    "results_RFC = RFC(random_state = random_state)\n",
    "results_RFC.fit(X = trainX, y = trainY)\n",
    "predictY_RFC = results_RFC.predict(X = testX)\n",
    "print(classification_report(testY, predictY_RFC))"
   ]
  },
  {
   "cell_type": "code",
   "execution_count": null,
   "metadata": {},
   "outputs": [],
   "source": []
  }
 ]
}