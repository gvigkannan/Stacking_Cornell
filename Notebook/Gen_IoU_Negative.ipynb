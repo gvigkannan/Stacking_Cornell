{
 "metadata": {
  "language_info": {
   "codemirror_mode": {
    "name": "ipython",
    "version": 3
   },
   "file_extension": ".py",
   "mimetype": "text/x-python",
   "name": "python",
   "nbconvert_exporter": "python",
   "pygments_lexer": "ipython3",
   "version": "3.8.0"
  },
  "orig_nbformat": 2,
  "kernelspec": {
   "name": "python3",
   "display_name": "Python 3",
   "language": "python"
  }
 },
 "nbformat": 4,
 "nbformat_minor": 2,
 "cells": [
  {
   "cell_type": "code",
   "execution_count": null,
   "metadata": {},
   "outputs": [],
   "source": [
    "## Notebook to evaluate and store the results from ggcnn for a sample imageset\n",
    "## Last Trial Run: 7th April 2021"
   ]
  },
  {
   "cell_type": "code",
   "execution_count": 2,
   "metadata": {},
   "outputs": [],
   "source": [
    "import os \n",
    "import glob\n",
    "import sys \n",
    "import torch\n",
    "import numpy as np\n",
    "import torch.utils.data \n",
    "import imageio\n",
    "import pandas as pd\n",
    "import time"
   ]
  },
  {
   "cell_type": "code",
   "execution_count": 3,
   "metadata": {},
   "outputs": [],
   "source": [
    "ggcnn_dir = \"/media/gvk/GVK_Elements/github_repo/ggcnn_stacking\"\n",
    "fadi_dir = \"/media/gvk/GVK_Elements/github_repo/Ensemble/Experts/Generative/pretrained_weights\"\n",
    "sys.path.append(ggcnn_dir)\n",
    "sys.path.append(fadi_dir)\n",
    "from models.common import post_process_output\n",
    "from utils.dataset_processing import evaluation, grasp \n",
    "from utils.data import get_dataset, cornell_data, cornell_data_neg\n",
    "from utils.data.cornell_data import CornellDataset\n",
    "from utils.data.cornell_data_neg import CornellDataset_Neg\n",
    "from utils.dataset_processing.image import DepthImage"
   ]
  },
  {
   "cell_type": "code",
   "execution_count": 4,
   "metadata": {},
   "outputs": [],
   "source": [
    "## HYPERPARAMETERS:\n",
    "NO_GRASPS = 1"
   ]
  },
  {
   "cell_type": "code",
   "execution_count": 50,
   "metadata": {},
   "outputs": [
    {
     "output_type": "stream",
     "name": "stdout",
     "text": [
      "GGCNN_IoU_AllGrasps_FullCornell_Negative.csv\n",
      "/media/gvk/GVK_Elements/py_linux/ensemble_dr_linux/lib/python3.8/site-packages/torch/serialization.py:656: SourceChangeWarning: source code of class 'torch.nn.modules.conv.Conv2d' has changed. you can retrieve the original source code by accessing the object's source attribute or set `torch.nn.Module.dump_patches = True` and use the patch tool to revert the changes.\n",
      "  warnings.warn(msg, SourceChangeWarning)\n",
      "/media/gvk/GVK_Elements/py_linux/ensemble_dr_linux/lib/python3.8/site-packages/torch/serialization.py:656: SourceChangeWarning: source code of class 'torch.nn.modules.conv.ConvTranspose2d' has changed. you can retrieve the original source code by accessing the object's source attribute or set `torch.nn.Module.dump_patches = True` and use the patch tool to revert the changes.\n",
      "  warnings.warn(msg, SourceChangeWarning)\n"
     ]
    }
   ],
   "source": [
    "## Model Loading:\n",
    "MODEL_NAME = 'GGCNN'\n",
    "GRASP_TYPE = \"Negative\"\n",
    "GRASP_LABEL = -1\n",
    "MODEL_DIR = os.path.join(ggcnn_dir, \"weights\", \"ggcnn_weights_cornell\", \"ggcnn_epoch_23_cornell\")\n",
    "IOU_NAME = MODEL_NAME + \"_IoU_AllGrasps_FullCornell_\" + GRASP_TYPE + \".csv\"\n",
    "net = torch.load(MODEL_DIR)\n",
    "include_depth = False\n",
    "include_rgb = True\n",
    "print(IOU_NAME)"
   ]
  },
  {
   "cell_type": "code",
   "execution_count": 51,
   "metadata": {},
   "outputs": [],
   "source": [
    "## Considering one folder!\n",
    "dataset_path = \"/media/gvk/GVK_Elements/WPI/Spring2021/DR_Grasping/CurrentFocus/Cornell_Dataset/Full_Cornell/*/\"\n",
    "positive_data = CornellDataset_Neg(dataset_path, include_depth = True, include_rgb = False)\n"
   ]
  },
  {
   "cell_type": "code",
   "execution_count": 52,
   "metadata": {},
   "outputs": [
    {
     "output_type": "execute_result",
     "data": {
      "text/plain": [
       "'/media/gvk/GVK_Elements/WPI/Spring2021/DR_Grasping/CurrentFocus/Cornell_Dataset/Full_Cornell/data01/01/pcd0100cneg.txt'"
      ]
     },
     "metadata": {},
     "execution_count": 52
    }
   ],
   "source": [
    "positive_data.grasp_files[0]"
   ]
  },
  {
   "cell_type": "code",
   "execution_count": 53,
   "metadata": {},
   "outputs": [
    {
     "output_type": "execute_result",
     "data": {
      "text/plain": [
       "884"
      ]
     },
     "metadata": {},
     "execution_count": 53
    }
   ],
   "source": [
    "len(positive_data.depth_files)"
   ]
  },
  {
   "cell_type": "code",
   "execution_count": 54,
   "metadata": {},
   "outputs": [],
   "source": [
    "## For the purpose of comparing images at a later stage.\n",
    "positive_comp = positive_data\n",
    "positive_data = torch.utils.data.DataLoader(positive_data, batch_size = 1, shuffle = False)"
   ]
  },
  {
   "cell_type": "code",
   "execution_count": 55,
   "metadata": {},
   "outputs": [
    {
     "output_type": "execute_result",
     "data": {
      "text/plain": [
       "device(type='cuda')"
      ]
     },
     "metadata": {},
     "execution_count": 55
    }
   ],
   "source": [
    "device = torch.device(\"cuda\" if torch.cuda.is_available() else \"cpu\")\n",
    "device"
   ]
  },
  {
   "cell_type": "code",
   "execution_count": 56,
   "metadata": {},
   "outputs": [
    {
     "output_type": "stream",
     "name": "stdout",
     "text": [
      "Cell Time:  45.054750204086304\n"
     ]
    }
   ],
   "source": [
    "## For all the images within the Cornell Dataset!\n",
    "\n",
    "results = {'correct': 0, 'failed': 0}\n",
    "start_cell = time.time()\n",
    "iou_list = []\n",
    "with torch.no_grad():\n",
    "\n",
    "    for img_idx, (x, y, didx, rot, zoom) in enumerate(positive_data):\n",
    "        xc = x.to(device)\n",
    "        yc = [yi.to(device) for yi in y]\n",
    "        lossd = net.compute_loss(xc, yc)    ## Ensure that your outputs are from a dataloader!\n",
    "\n",
    "        ## Getting the Quality, Angle and Width Images!\n",
    "        q_img, ang_img, width_img = post_process_output( lossd['pred']['pos'], lossd['pred']['cos'], lossd['pred']['sin'], lossd['pred']['width'])\n",
    "\n",
    "        ## Getting the ground truth Bounding Boxes for the particular image within Cornell Dataset - Refer dataset_preprocessing.evaluation.py for more details.\n",
    "        groundTruth_bbs = positive_data.dataset.get_gtbb(didx, rot, zoom)\n",
    "        if not isinstance(groundTruth_bbs, grasp.GraspRectangles):\n",
    "            groundTruth_bbs = grasp.GraspRectangles.load_from_array(groundTruth_bbs)\n",
    "        \n",
    "        grasp_predict = grasp.detect_grasps(q_img, ang_img, width_img, no_grasps = NO_GRASPS)\n",
    "        \n",
    "        iou_dict = {}\n",
    "        ## For each grasp available:\n",
    "        for g_idx, model_grasp in enumerate(grasp_predict):\n",
    "            for gt_idx, gt_bb in enumerate(groundTruth_bbs):\n",
    "                ## Calculate IoU:\n",
    "                grasp_predict = model_grasp.as_gr\n",
    "\n",
    "                key_name = \"_\".join((\"ModelGrasp\", str(g_idx), \"GT_Grasp\", str(gt_idx)))\n",
    "                ## Detecting the IoU between the Grasp and Ground Truth Bounding Box\n",
    "                iou_dict[key_name] = grasp_predict.iou(gt_bb)\n",
    "        \n",
    "        ## Saving the IoU generated!\n",
    "        ## Just getting the pcd name:\n",
    "        \n",
    "        img_id = positive_comp.depth_files[img_idx].split(\"/\")[-1]  ## Now its pcdxxxx.tiff\n",
    "        img_id = str(img_id).split(\".\")[0][:-1]                 ## Now its pcdxxxx\n",
    "        for key_grasp, value_grasp in iou_dict.items():\n",
    "            grasp_result = value_grasp > 0.25\n",
    "            iou_list.append([img_id, key_grasp, value_grasp, grasp_result, didx.item(), zoom.item(), rot.item()])\n",
    "print(\"Cell Time: \", time.time() - start_cell) ## ~52s"
   ]
  },
  {
   "cell_type": "code",
   "execution_count": 57,
   "metadata": {},
   "outputs": [
    {
     "output_type": "execute_result",
     "data": {
      "text/plain": [
       "['pcd0100', 'ModelGrasp_0_GT_Grasp_0', 0, False, 0, 1.0, 0.0]"
      ]
     },
     "metadata": {},
     "execution_count": 57
    }
   ],
   "source": [
    "iou_list[0]"
   ]
  },
  {
   "cell_type": "code",
   "execution_count": 58,
   "metadata": {},
   "outputs": [
    {
     "output_type": "execute_result",
     "data": {
      "text/plain": [
       "     Image_ID                 Grasp_ID      IoU  Grasp_Result  Didx_Image  \\\n",
       "0     pcd0100  ModelGrasp_0_GT_Grasp_0  0.00000         False           0   \n",
       "1     pcd0100  ModelGrasp_0_GT_Grasp_1  0.00000         False           0   \n",
       "2     pcd0100  ModelGrasp_0_GT_Grasp_2  0.00000         False           0   \n",
       "3     pcd0101  ModelGrasp_0_GT_Grasp_0  0.00000         False           1   \n",
       "4     pcd0102  ModelGrasp_0_GT_Grasp_0  0.00000         False           2   \n",
       "...       ...                      ...      ...           ...         ...   \n",
       "2842  pcd1033  ModelGrasp_0_GT_Grasp_4  0.00000         False         882   \n",
       "2843  pcd1034  ModelGrasp_0_GT_Grasp_0  0.31962          True         883   \n",
       "2844  pcd1034  ModelGrasp_0_GT_Grasp_1  0.00000         False         883   \n",
       "2845  pcd1034  ModelGrasp_0_GT_Grasp_2  0.00000         False         883   \n",
       "2846  pcd1034  ModelGrasp_0_GT_Grasp_3  0.00000         False         883   \n",
       "\n",
       "      Image_Zoom  Image_Rot  Grasp_Type  \n",
       "0            1.0        0.0          -1  \n",
       "1            1.0        0.0          -1  \n",
       "2            1.0        0.0          -1  \n",
       "3            1.0        0.0          -1  \n",
       "4            1.0        0.0          -1  \n",
       "...          ...        ...         ...  \n",
       "2842         1.0        0.0          -1  \n",
       "2843         1.0        0.0          -1  \n",
       "2844         1.0        0.0          -1  \n",
       "2845         1.0        0.0          -1  \n",
       "2846         1.0        0.0          -1  \n",
       "\n",
       "[2847 rows x 8 columns]"
      ],
      "text/html": "<div>\n<style scoped>\n    .dataframe tbody tr th:only-of-type {\n        vertical-align: middle;\n    }\n\n    .dataframe tbody tr th {\n        vertical-align: top;\n    }\n\n    .dataframe thead th {\n        text-align: right;\n    }\n</style>\n<table border=\"1\" class=\"dataframe\">\n  <thead>\n    <tr style=\"text-align: right;\">\n      <th></th>\n      <th>Image_ID</th>\n      <th>Grasp_ID</th>\n      <th>IoU</th>\n      <th>Grasp_Result</th>\n      <th>Didx_Image</th>\n      <th>Image_Zoom</th>\n      <th>Image_Rot</th>\n      <th>Grasp_Type</th>\n    </tr>\n  </thead>\n  <tbody>\n    <tr>\n      <th>0</th>\n      <td>pcd0100</td>\n      <td>ModelGrasp_0_GT_Grasp_0</td>\n      <td>0.00000</td>\n      <td>False</td>\n      <td>0</td>\n      <td>1.0</td>\n      <td>0.0</td>\n      <td>-1</td>\n    </tr>\n    <tr>\n      <th>1</th>\n      <td>pcd0100</td>\n      <td>ModelGrasp_0_GT_Grasp_1</td>\n      <td>0.00000</td>\n      <td>False</td>\n      <td>0</td>\n      <td>1.0</td>\n      <td>0.0</td>\n      <td>-1</td>\n    </tr>\n    <tr>\n      <th>2</th>\n      <td>pcd0100</td>\n      <td>ModelGrasp_0_GT_Grasp_2</td>\n      <td>0.00000</td>\n      <td>False</td>\n      <td>0</td>\n      <td>1.0</td>\n      <td>0.0</td>\n      <td>-1</td>\n    </tr>\n    <tr>\n      <th>3</th>\n      <td>pcd0101</td>\n      <td>ModelGrasp_0_GT_Grasp_0</td>\n      <td>0.00000</td>\n      <td>False</td>\n      <td>1</td>\n      <td>1.0</td>\n      <td>0.0</td>\n      <td>-1</td>\n    </tr>\n    <tr>\n      <th>4</th>\n      <td>pcd0102</td>\n      <td>ModelGrasp_0_GT_Grasp_0</td>\n      <td>0.00000</td>\n      <td>False</td>\n      <td>2</td>\n      <td>1.0</td>\n      <td>0.0</td>\n      <td>-1</td>\n    </tr>\n    <tr>\n      <th>...</th>\n      <td>...</td>\n      <td>...</td>\n      <td>...</td>\n      <td>...</td>\n      <td>...</td>\n      <td>...</td>\n      <td>...</td>\n      <td>...</td>\n    </tr>\n    <tr>\n      <th>2842</th>\n      <td>pcd1033</td>\n      <td>ModelGrasp_0_GT_Grasp_4</td>\n      <td>0.00000</td>\n      <td>False</td>\n      <td>882</td>\n      <td>1.0</td>\n      <td>0.0</td>\n      <td>-1</td>\n    </tr>\n    <tr>\n      <th>2843</th>\n      <td>pcd1034</td>\n      <td>ModelGrasp_0_GT_Grasp_0</td>\n      <td>0.31962</td>\n      <td>True</td>\n      <td>883</td>\n      <td>1.0</td>\n      <td>0.0</td>\n      <td>-1</td>\n    </tr>\n    <tr>\n      <th>2844</th>\n      <td>pcd1034</td>\n      <td>ModelGrasp_0_GT_Grasp_1</td>\n      <td>0.00000</td>\n      <td>False</td>\n      <td>883</td>\n      <td>1.0</td>\n      <td>0.0</td>\n      <td>-1</td>\n    </tr>\n    <tr>\n      <th>2845</th>\n      <td>pcd1034</td>\n      <td>ModelGrasp_0_GT_Grasp_2</td>\n      <td>0.00000</td>\n      <td>False</td>\n      <td>883</td>\n      <td>1.0</td>\n      <td>0.0</td>\n      <td>-1</td>\n    </tr>\n    <tr>\n      <th>2846</th>\n      <td>pcd1034</td>\n      <td>ModelGrasp_0_GT_Grasp_3</td>\n      <td>0.00000</td>\n      <td>False</td>\n      <td>883</td>\n      <td>1.0</td>\n      <td>0.0</td>\n      <td>-1</td>\n    </tr>\n  </tbody>\n</table>\n<p>2847 rows × 8 columns</p>\n</div>"
     },
     "metadata": {},
     "execution_count": 58
    }
   ],
   "source": [
    "iou_pd = pd.DataFrame(iou_list)\n",
    "iou_pd.columns = ['Image_ID', 'Grasp_ID', 'IoU', 'Grasp_Result', 'Didx_Image', 'Image_Zoom', 'Image_Rot']\n",
    "iou_pd['Grasp_Type'] = GRASP_LABEL\n",
    "iou_pd"
   ]
  },
  {
   "cell_type": "code",
   "execution_count": 36,
   "metadata": {},
   "outputs": [],
   "source": [
    "# iou_pd = pd.DataFrame(iou_list)\n",
    "# iou_pd.columns = ['Image_ID', 'Grasp_ID', 'IoU', 'Grasp_Result', 'Didx_Image', 'Image_Zoom', 'Image_Rot']\n",
    "# iou_pd['Grasp_Type'] = +1\n",
    "# iou_pd"
   ]
  },
  {
   "cell_type": "code",
   "execution_count": 59,
   "metadata": {},
   "outputs": [
    {
     "output_type": "execute_result",
     "data": {
      "text/plain": [
       "'GGCNN_IoU_AllGrasps_FullCornell_Negative.csv'"
      ]
     },
     "metadata": {},
     "execution_count": 59
    }
   ],
   "source": [
    "IOU_NAME"
   ]
  },
  {
   "source": [
    "iou_pd.to_csv(IOU_NAME, sep = ',', index = False)\n"
   ],
   "cell_type": "code",
   "metadata": {},
   "execution_count": 60,
   "outputs": []
  },
  {
   "source": [
    "STOP"
   ],
   "cell_type": "code",
   "metadata": {},
   "execution_count": 38,
   "outputs": [
    {
     "output_type": "error",
     "ename": "NameError",
     "evalue": "name 'STOP' is not defined",
     "traceback": [
      "\u001b[0;31m---------------------------------------------------------------------------\u001b[0m",
      "\u001b[0;31mNameError\u001b[0m                                 Traceback (most recent call last)",
      "\u001b[0;32m<ipython-input-38-ee4decdca3b8>\u001b[0m in \u001b[0;36m<module>\u001b[0;34m\u001b[0m\n\u001b[0;32m----> 1\u001b[0;31m \u001b[0mSTOP\u001b[0m\u001b[0;34m\u001b[0m\u001b[0;34m\u001b[0m\u001b[0m\n\u001b[0m",
      "\u001b[0;31mNameError\u001b[0m: name 'STOP' is not defined"
     ]
    }
   ]
  },
  {
   "cell_type": "code",
   "execution_count": 36,
   "metadata": {},
   "outputs": [],
   "source": [
    "# print(len(iou_quality.keys()))"
   ]
  },
  {
   "cell_type": "code",
   "execution_count": 37,
   "metadata": {},
   "outputs": [],
   "source": [
    "# ## To get the image id\n",
    "# img_id = test_comp.rgb_files[1].split(\"/\")[-1]\n",
    "# depth_id = str(img_id).split('.')[0][:-1]\n",
    "# print(depth_id)\n",
    "\n",
    "# rgb_id = str(img_id).split('.')[0][:-1]\n",
    "# print(rgb_id)"
   ]
  },
  {
   "cell_type": "code",
   "execution_count": 38,
   "metadata": {},
   "outputs": [],
   "source": [
    "# ## Saving the Collected Results!\n",
    "# import pickle\n",
    "# model_name = \"fadi_depth\"\n",
    "# save_dir = \"/media/gvk/GVK_Elements/github_repo/Ensemble/Stacking_Test/Stacking_Data/\"\n",
    "# first_entry, last_entry = list(iou_quality.keys())[0], list(iou_quality.keys())[-1]\n",
    "# fname = \"_\".join((model_name, first_entry, last_entry+\".txt\"))\n",
    "# fdir = os.path.join(save_dir, fname)\n",
    "# with open(fdir, 'wb') as file_pickle:\n",
    "#     pickle.dump(iou_quality, file_pickle)"
   ]
  },
  {
   "cell_type": "code",
   "execution_count": 39,
   "metadata": {},
   "outputs": [
    {
     "output_type": "stream",
     "name": "stdout",
     "text": [
      "Cell Time:  0.06836748123168945\n"
     ]
    }
   ],
   "source": [
    "#  Trial for each test image\n",
    "## Test Worked: 11th May 2021\n",
    "## To detect whether the grasp worked for all possible grasps!\n",
    "start_cell = time.time()\n",
    "results = {'correct': 0, 'failed': 0}\n",
    "iou_quality = {}\n",
    "with torch.no_grad():\n",
    "\n",
    "    ## For each test image\n",
    "    ## Just testing for one single image\n",
    "    x, y, didx, rot, zoom =  next(iter(positive_data))\n",
    "    img_idx = 0\n",
    "    xc = x.to(device)\n",
    "    yc = [yi.to(device) for yi in y]\n",
    "    lossd = net.compute_loss(xc, yc)    ## Ensure that your outputs are from a dataloader!\n",
    "\n",
    "    ## Getting the Quality, Angle and Width Images!\n",
    "    q_img, ang_img, width_img = post_process_output( lossd['pred']['pos'], lossd['pred']['cos'], lossd['pred']['sin'], lossd['pred']['width'])\n",
    "\n",
    "    ## Getting the ground truth Bounding Boxes for the particular image within Cornell Dataset - Refer dataset_preprocessing.evaluation.py for more details.\n",
    "    groundTruth_bbs = positive_data.dataset.get_gtbb(didx, rot, zoom)\n",
    "    if not isinstance(groundTruth_bbs, grasp.GraspRectangles):\n",
    "        groundTruth_bbs = grasp.GraspRectangles.load_from_array(groundTruth_bbs)\n",
    "    \n",
    "    grasp_predict = grasp.detect_grasps(q_img, ang_img, width_img, no_grasps = NO_GRASPS)\n",
    "    \n",
    "    iou_dict = {}\n",
    "    ## For each grasp available:\n",
    "    for g_idx, model_grasp in enumerate(grasp_predict):\n",
    "        for gt_idx, gt_bb in enumerate(groundTruth_bbs):\n",
    "            ## Calculate IoU:\n",
    "            grasp_predict = model_grasp.as_gr\n",
    "\n",
    "            key_name = \"_\".join((\"ModelGrasp\", str(g_idx), \"GT_Grasp\", str(gt_idx)))\n",
    "            ## Detecting the IoU between the Grasp and Ground Truth Bounding Box\n",
    "            iou_dict[key_name] = grasp_predict.iou(gt_bb)\n",
    "    \n",
    "    ## Saving the IoU generated!\n",
    "    ## Just getting the pcd name:\n",
    "    iou_list = []\n",
    "    img_id = positive_comp.depth_files[img_idx].split(\"/\")[-1]  ## Now its pcdxxxx.tiff\n",
    "    img_id = str(img_id).split(\".\")[0][:-1]                 ## Now its pcdxxxx\n",
    "    for key_grasp, value_grasp in iou_dict.items():\n",
    "        grasp_result = value_grasp > 0.25\n",
    "        iou_list.append([img_id, key_grasp, value_grasp, grasp_result, didx.item(), zoom.item(), rot.item()])\n",
    "\n",
    "\n",
    "    # ## Now to compare and create a dictionary that stores the IoU given image name\n",
    "    # x_comp, _, _, _, _ = test_comp[idx]\n",
    "    # #print(torch.allclose(torch.tensor(x_comp), x))\n",
    "    # if torch.allclose(torch.tensor(x_comp), x):\n",
    "    #     img_id = test_comp.depth_files[0].split(\"/\")[-1]\n",
    "\n",
    "    #     ## We cannot use an image!\n",
    "    #     #quality_dict[str(img_id)] = q_img\n",
    "    #     image_id = str(img_id).split('.')[0][:-1]\n",
    "\n",
    "    #     # iou_quality[image_id] = [int(s), np.max(q_img).astype('float32')]\n",
    "    # else:\n",
    "    #     print(\"Dataloader and Comparison X didn't match\")\n",
    "\n",
    "print(\"Cell Time: \", time.time() - start_cell)"
   ]
  }
 ]
}