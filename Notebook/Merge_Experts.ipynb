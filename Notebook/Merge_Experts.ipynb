{
 "metadata": {
  "language_info": {
   "codemirror_mode": {
    "name": "ipython",
    "version": 3
   },
   "file_extension": ".py",
   "mimetype": "text/x-python",
   "name": "python",
   "nbconvert_exporter": "python",
   "pygments_lexer": "ipython3",
   "version": "3.8.0"
  },
  "orig_nbformat": 2,
  "kernelspec": {
   "name": "python380jvsc74a57bd06cf9bee30d277199a80153220137b84c65350a750d0350a850082f44e7ac5f43",
   "display_name": "Python 3.8.0 64-bit ('ensemble_dr_linux': venv)"
  }
 },
 "nbformat": 4,
 "nbformat_minor": 2,
 "cells": [
  {
   "cell_type": "code",
   "execution_count": 3,
   "metadata": {},
   "outputs": [],
   "source": [
    "import pandas as pd"
   ]
  },
  {
   "cell_type": "code",
   "execution_count": 4,
   "metadata": {},
   "outputs": [],
   "source": [
    "## Importing all positive grasps\n",
    "ColorPos = pd.read_csv(\"FadiColorNet_IoU_AllGrasps_FullCornell_Positive.csv\", sep = ',')\n",
    "DepthPos = pd.read_csv(\"FadiDepthNet_IoU_AllGrasps_FullCornell_Positive.csv\", sep = ',')\n",
    "GG2Pos = pd.read_csv(\"GGCNN2_IoU_AllGrasps_FullCornell_Positive.csv\", sep = ',')\n",
    "GGPos = pd.read_csv(\"GGCNN_IoU_AllGrasps_FullCornell_Positive.csv\", sep = ',')\n"
   ]
  },
  {
   "cell_type": "code",
   "execution_count": 5,
   "metadata": {},
   "outputs": [],
   "source": [
    "ColorPos.columns = ['Image_ID', 'Grasp_ID', 'Color_IoU', 'Color_Positive', 'Didx_Image', 'Image_Zoom', 'Image_Rot', 'Grasp_Type']\n",
    "DepthPos.columns = ['Image_ID', 'Grasp_ID', 'Depth_IoU', 'Depth_Positive', 'Didx_Image', 'Image_Zoom', 'Image_Rot', 'Grasp_Type']\n",
    "GG2Pos.columns = ['Image_ID', 'Grasp_ID', 'GGCNN2_IoU', 'GGCNN2_Positive', 'Didx_Image', 'Image_Zoom', 'Image_Rot', 'Grasp_Type']\n",
    "GGPos.columns = ['Image_ID', 'Grasp_ID', 'GGCNN_IoU', 'GGCNN_Positive', 'Didx_Image', 'Image_Zoom', 'Image_Rot', 'Grasp_Type']"
   ]
  },
  {
   "cell_type": "code",
   "execution_count": 6,
   "metadata": {},
   "outputs": [],
   "source": [
    "ColorPos['Grasp_ID'] = str(\"Positive_\")+ColorPos['Image_ID']+\"_\"+ColorPos['Grasp_ID']\n",
    "DepthPos['Grasp_ID'] = str(\"Positive_\")+DepthPos['Image_ID']+\"_\"+DepthPos['Grasp_ID']\n",
    "GG2Pos['Grasp_ID'] = str(\"Positive_\")+GG2Pos['Image_ID']+\"_\"+GG2Pos['Grasp_ID']\n",
    "GGPos['Grasp_ID'] = str(\"Positive_\")+GGPos['Image_ID']+\"_\"+GGPos['Grasp_ID']"
   ]
  },
  {
   "cell_type": "code",
   "execution_count": 7,
   "metadata": {},
   "outputs": [],
   "source": [
    "ColorPos = ColorPos.drop(columns = ['Image_ID', 'Didx_Image', 'Image_Zoom', 'Image_Rot', 'Grasp_Type'])\n",
    "DepthPos = DepthPos.drop(columns = ['Image_ID','Didx_Image', 'Image_Zoom', 'Image_Rot','Grasp_Type'])\n",
    "GG2Pos = GG2Pos.drop(columns = ['Image_ID','Didx_Image', 'Image_Zoom', 'Image_Rot', 'Grasp_Type'])\n",
    "GGPos = GGPos.drop(columns = ['Image_ID','Didx_Image', 'Image_Zoom', 'Image_Rot', 'Grasp_Type'])"
   ]
  },
  {
   "cell_type": "code",
   "execution_count": 8,
   "metadata": {},
   "outputs": [
    {
     "output_type": "execute_result",
     "data": {
      "text/plain": [
       "0       Positive_pcd0100_ModelGrasp_0_GT_Grasp_0\n",
       "1       Positive_pcd0100_ModelGrasp_0_GT_Grasp_1\n",
       "2       Positive_pcd0100_ModelGrasp_0_GT_Grasp_2\n",
       "3       Positive_pcd0100_ModelGrasp_0_GT_Grasp_3\n",
       "4       Positive_pcd0101_ModelGrasp_0_GT_Grasp_0\n",
       "                          ...                   \n",
       "5105    Positive_pcd1034_ModelGrasp_0_GT_Grasp_0\n",
       "5106    Positive_pcd1034_ModelGrasp_0_GT_Grasp_1\n",
       "5107    Positive_pcd1034_ModelGrasp_0_GT_Grasp_2\n",
       "5108    Positive_pcd1034_ModelGrasp_0_GT_Grasp_3\n",
       "5109    Positive_pcd1034_ModelGrasp_0_GT_Grasp_4\n",
       "Name: Grasp_ID, Length: 5110, dtype: object"
      ]
     },
     "metadata": {},
     "execution_count": 8
    }
   ],
   "source": [
    "ColorPos['Grasp_ID']"
   ]
  },
  {
   "cell_type": "code",
   "execution_count": 11,
   "metadata": {},
   "outputs": [],
   "source": [
    "# merge_pos.loc[merge_pos['Grasp_ID'] == DepthPos['Grasp_ID']]"
   ]
  },
  {
   "cell_type": "code",
   "execution_count": 9,
   "metadata": {},
   "outputs": [],
   "source": [
    "PosMerge = pd.merge(ColorPos, DepthPos,  on = ['Grasp_ID'], how = 'inner')\n",
    "PosMerge = pd.merge(PosMerge, GG2Pos,  on = ['Grasp_ID'], how = 'inner')\n",
    "PosMerge = pd.merge(PosMerge, GGPos,  on = ['Grasp_ID'], how = 'inner')\n",
    "PosMerge['Grasp_Type'] = 1\n",
    "PosMerge.to_csv(\"Merged_Positive.csv\", sep = ',')"
   ]
  },
  {
   "cell_type": "code",
   "execution_count": 12,
   "metadata": {},
   "outputs": [
    {
     "output_type": "stream",
     "name": "stdout",
     "text": [
      "5110\n4978\n4551\n4978\n\n4551\n"
     ]
    }
   ],
   "source": [
    "print(len(ColorPos))\n",
    "print(len(DepthPos))\n",
    "print(len(GG2Pos))\n",
    "print(len(GGPos))\n",
    "print()\n",
    "print(len(PosMerge))"
   ]
  },
  {
   "cell_type": "code",
   "execution_count": 18,
   "metadata": {},
   "outputs": [],
   "source": [
    "## Importing all negative grasps\n",
    "ColorNeg = pd.read_csv(\"FadiColorNet_IoU_AllGrasps_FullCornell_Negative.csv\", sep = ',')\n",
    "DepthNeg = pd.read_csv(\"FadiDepthNet_IoU_AllGrasps_FullCornell_Negative.csv\", sep = ',')\n",
    "GG2Neg = pd.read_csv(\"GGCNN2_IoU_AllGrasps_FullCornell_Negative.csv\", sep = ',')\n",
    "GGNeg = pd.read_csv(\"GGCNN_IoU_AllGrasps_FullCornell_Negative.csv\", sep = ',')\n"
   ]
  },
  {
   "cell_type": "code",
   "execution_count": 19,
   "metadata": {},
   "outputs": [
    {
     "output_type": "execute_result",
     "data": {
      "text/plain": [
       "Index(['Image_ID', 'Grasp_ID', 'IoU', 'Grasp_Result', 'Didx_Image',\n",
       "       'Image_Zoom', 'Image_Rot', 'Grasp_Type'],\n",
       "      dtype='object')"
      ]
     },
     "metadata": {},
     "execution_count": 19
    }
   ],
   "source": [
    "ColorNeg.columns"
   ]
  },
  {
   "cell_type": "code",
   "execution_count": 20,
   "metadata": {},
   "outputs": [],
   "source": [
    "ColorNeg.columns = ['Image_ID', 'Grasp_ID', 'Color_IoU', 'Color_Negative', 'Didx_Image', 'Image_Zoom', 'Image_Rot', 'Grasp_Type']\n",
    "DepthNeg.columns = ['Image_ID', 'Grasp_ID', 'Depth_IoU', 'Depth_Negative', 'Didx_Image', 'Image_Zoom', 'Image_Rot', 'Grasp_Type']\n",
    "GG2Neg.columns = ['Image_ID', 'Grasp_ID', 'GGCNN2_IoU', 'GGCNN2_Negative', 'Didx_Image', 'Image_Zoom', 'Image_Rot', 'Grasp_Type']\n",
    "GGNeg.columns = ['Image_ID', 'Grasp_ID', 'GGCNN_IoU', 'GGCNN_Negative', 'Didx_Image', 'Image_Zoom', 'Image_Rot', 'Grasp_Type']"
   ]
  },
  {
   "cell_type": "code",
   "execution_count": 21,
   "metadata": {},
   "outputs": [],
   "source": [
    "ColorNeg['Grasp_ID'] = str(\"Negative_\")+ColorNeg['Image_ID']+\"_\"+ColorNeg['Grasp_ID']\n",
    "DepthNeg['Grasp_ID'] = str(\"Negative_\")+DepthNeg['Image_ID']+\"_\"+DepthNeg['Grasp_ID']\n",
    "GG2Neg['Grasp_ID'] = str(\"Negative_\")+GG2Neg['Image_ID']+\"_\"+GG2Neg['Grasp_ID']\n",
    "GGNeg['Grasp_ID'] = str(\"Negative_\")+GGNeg['Image_ID']+\"_\"+GGNeg['Grasp_ID']"
   ]
  },
  {
   "cell_type": "code",
   "execution_count": 22,
   "metadata": {},
   "outputs": [],
   "source": [
    "ColorNeg = ColorNeg.drop(columns = ['Image_ID', 'Didx_Image', 'Image_Zoom', 'Image_Rot', 'Grasp_Type'])\n",
    "DepthNeg = DepthNeg.drop(columns = ['Image_ID','Didx_Image', 'Image_Zoom', 'Image_Rot','Grasp_Type'])\n",
    "GG2Neg = GG2Neg.drop(columns = ['Image_ID','Didx_Image', 'Image_Zoom', 'Image_Rot', 'Grasp_Type'])\n",
    "GGNeg = GGNeg.drop(columns = ['Image_ID','Didx_Image', 'Image_Zoom', 'Image_Rot', 'Grasp_Type'])"
   ]
  },
  {
   "source": [
    "NegMerge = pd.merge(ColorNeg, DepthNeg,  on = ['Grasp_ID'], how = 'inner')\n",
    "NegMerge = pd.merge(NegMerge, GG2Neg,  on = ['Grasp_ID'], how = 'inner')\n",
    "NegMerge = pd.merge(NegMerge, GGNeg,  on = ['Grasp_ID'], how = 'inner')\n",
    "NegMerge['Grasp_Type'] = -1\n",
    "# PosMerge.to_csv(\"Merged_Positive.csv\", sep = ',')"
   ],
   "cell_type": "code",
   "metadata": {},
   "execution_count": 23,
   "outputs": []
  },
  {
   "cell_type": "code",
   "execution_count": 24,
   "metadata": {},
   "outputs": [],
   "source": [
    "NegMerge.to_csv(\"Merged_Negative.csv\", sep = ',')"
   ]
  },
  {
   "cell_type": "code",
   "execution_count": 25,
   "metadata": {},
   "outputs": [
    {
     "output_type": "stream",
     "name": "stdout",
     "text": [
      "2909\n2847\n2679\n2847\n\n2679\n"
     ]
    }
   ],
   "source": [
    "print(len(ColorNeg))\n",
    "print(len(DepthNeg))\n",
    "print(len(GG2Neg))\n",
    "print(len(GGNeg))\n",
    "print()\n",
    "print(len(NegMerge))"
   ]
  },
  {
   "cell_type": "code",
   "execution_count": 26,
   "metadata": {},
   "outputs": [],
   "source": [
    "Concat_Results = pd.concat([PosMerge, NegMerge])"
   ]
  },
  {
   "cell_type": "code",
   "execution_count": 27,
   "metadata": {},
   "outputs": [
    {
     "output_type": "execute_result",
     "data": {
      "text/plain": [
       "Grasp_ID           False\n",
       "Color_IoU          False\n",
       "Color_Positive      True\n",
       "Depth_IoU          False\n",
       "Depth_Positive      True\n",
       "GGCNN2_IoU         False\n",
       "GGCNN2_Positive     True\n",
       "GGCNN_IoU          False\n",
       "GGCNN_Positive      True\n",
       "Grasp_Type         False\n",
       "Color_Negative      True\n",
       "Depth_Negative      True\n",
       "GGCNN2_Negative     True\n",
       "GGCNN_Negative      True\n",
       "dtype: bool"
      ]
     },
     "metadata": {},
     "execution_count": 27
    }
   ],
   "source": [
    "Concat_Results.isna().any()"
   ]
  },
  {
   "cell_type": "code",
   "execution_count": 30,
   "metadata": {},
   "outputs": [],
   "source": [
    "Concat_Results = Concat_Results.fillna(\"False\")"
   ]
  },
  {
   "cell_type": "code",
   "execution_count": 31,
   "metadata": {},
   "outputs": [
    {
     "output_type": "execute_result",
     "data": {
      "text/plain": [
       "Grasp_ID           False\n",
       "Color_IoU          False\n",
       "Color_Positive     False\n",
       "Depth_IoU          False\n",
       "Depth_Positive     False\n",
       "GGCNN2_IoU         False\n",
       "GGCNN2_Positive    False\n",
       "GGCNN_IoU          False\n",
       "GGCNN_Positive     False\n",
       "Grasp_Type         False\n",
       "Color_Negative     False\n",
       "Depth_Negative     False\n",
       "GGCNN2_Negative    False\n",
       "GGCNN_Negative     False\n",
       "dtype: bool"
      ]
     },
     "metadata": {},
     "execution_count": 31
    }
   ],
   "source": [
    "Concat_Results.isna().any()"
   ]
  },
  {
   "cell_type": "code",
   "execution_count": 32,
   "metadata": {},
   "outputs": [],
   "source": [
    "cols = Concat_Results.columns"
   ]
  },
  {
   "cell_type": "code",
   "execution_count": 33,
   "metadata": {},
   "outputs": [],
   "source": [
    "cols = ['Grasp_ID', 'Color_IoU', 'Color_Positive', 'Depth_IoU', 'Depth_Positive', 'GGCNN2_IoU', 'GGCNN2_Positive', 'GGCNN_IoU','GGCNN_Positive', 'Color_Negative', 'Depth_Negative', 'GGCNN2_Negative', 'GGCNN_Negative', 'Grasp_Type']\n",
    "Concat_Results = Concat_Results[cols]"
   ]
  },
  {
   "cell_type": "code",
   "execution_count": 34,
   "metadata": {},
   "outputs": [],
   "source": [
    "Concat_Results.to_csv(\"Merged_Results_AllTypes.csv\", sep = ',')"
   ]
  },
  {
   "cell_type": "code",
   "execution_count": null,
   "metadata": {},
   "outputs": [],
   "source": []
  }
 ]
}