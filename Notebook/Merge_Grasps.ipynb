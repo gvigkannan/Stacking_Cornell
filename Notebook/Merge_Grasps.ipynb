{
 "metadata": {
  "language_info": {
   "codemirror_mode": {
    "name": "ipython",
    "version": 3
   },
   "file_extension": ".py",
   "mimetype": "text/x-python",
   "name": "python",
   "nbconvert_exporter": "python",
   "pygments_lexer": "ipython3",
   "version": "3.8.0"
  },
  "orig_nbformat": 2,
  "kernelspec": {
   "name": "python380jvsc74a57bd06cf9bee30d277199a80153220137b84c65350a750d0350a850082f44e7ac5f43",
   "display_name": "Python 3.8.0 64-bit ('ensemble_dr_linux': venv)"
  }
 },
 "nbformat": 4,
 "nbformat_minor": 2,
 "cells": [
  {
   "cell_type": "code",
   "execution_count": 1,
   "metadata": {},
   "outputs": [],
   "source": [
    "import pandas as pd"
   ]
  },
  {
   "cell_type": "code",
   "execution_count": 46,
   "metadata": {},
   "outputs": [],
   "source": [
    "pos_data = pd.read_csv(\"FadiDepthNet_IoU_AllGrasps_FullCornell_Positive.csv\", sep = ',')\n",
    "pos_data.columns = ['ImageID', 'GraspID', 'IoU', 'Positive_Result', \"Didx_Image\", 'Image_Zoom', 'Image_Rot', 'Grasp_Type']"
   ]
  },
  {
   "cell_type": "code",
   "execution_count": 47,
   "metadata": {},
   "outputs": [],
   "source": [
    "neg_data = pd.read_csv(\"FadiDepthNet_IoU_AllGrasps_FullCornell_Negative.csv\", sep = ',')\n",
    "neg_data.columns = ['ImageID', 'GraspID', 'IoU', 'Negative_Result', \"Didx_Image\", 'Image_Zoom', 'Image_Rot', 'Grasp_Type']"
   ]
  },
  {
   "cell_type": "code",
   "execution_count": 48,
   "metadata": {},
   "outputs": [
    {
     "output_type": "execute_result",
     "data": {
      "text/plain": [
       "      ImageID                  GraspID      IoU  Negative_Result  Didx_Image  \\\n",
       "0     pcd0100  ModelGrasp_0_GT_Grasp_0  0.00000            False           0   \n",
       "1     pcd0100  ModelGrasp_0_GT_Grasp_1  0.00000            False           0   \n",
       "2     pcd0100  ModelGrasp_0_GT_Grasp_2  0.00000            False           0   \n",
       "3     pcd0101  ModelGrasp_0_GT_Grasp_0  0.00000            False           1   \n",
       "4     pcd0102  ModelGrasp_0_GT_Grasp_0  0.00000            False           2   \n",
       "...       ...                      ...      ...              ...         ...   \n",
       "2842  pcd1033  ModelGrasp_0_GT_Grasp_4  0.00000            False         882   \n",
       "2843  pcd1034  ModelGrasp_0_GT_Grasp_0  0.31962             True         883   \n",
       "2844  pcd1034  ModelGrasp_0_GT_Grasp_1  0.00000            False         883   \n",
       "2845  pcd1034  ModelGrasp_0_GT_Grasp_2  0.00000            False         883   \n",
       "2846  pcd1034  ModelGrasp_0_GT_Grasp_3  0.00000            False         883   \n",
       "\n",
       "      Image_Zoom  Image_Rot  Grasp_Type  \n",
       "0            1.0        0.0          -1  \n",
       "1            1.0        0.0          -1  \n",
       "2            1.0        0.0          -1  \n",
       "3            1.0        0.0          -1  \n",
       "4            1.0        0.0          -1  \n",
       "...          ...        ...         ...  \n",
       "2842         1.0        0.0          -1  \n",
       "2843         1.0        0.0          -1  \n",
       "2844         1.0        0.0          -1  \n",
       "2845         1.0        0.0          -1  \n",
       "2846         1.0        0.0          -1  \n",
       "\n",
       "[2847 rows x 8 columns]"
      ],
      "text/html": "<div>\n<style scoped>\n    .dataframe tbody tr th:only-of-type {\n        vertical-align: middle;\n    }\n\n    .dataframe tbody tr th {\n        vertical-align: top;\n    }\n\n    .dataframe thead th {\n        text-align: right;\n    }\n</style>\n<table border=\"1\" class=\"dataframe\">\n  <thead>\n    <tr style=\"text-align: right;\">\n      <th></th>\n      <th>ImageID</th>\n      <th>GraspID</th>\n      <th>IoU</th>\n      <th>Negative_Result</th>\n      <th>Didx_Image</th>\n      <th>Image_Zoom</th>\n      <th>Image_Rot</th>\n      <th>Grasp_Type</th>\n    </tr>\n  </thead>\n  <tbody>\n    <tr>\n      <th>0</th>\n      <td>pcd0100</td>\n      <td>ModelGrasp_0_GT_Grasp_0</td>\n      <td>0.00000</td>\n      <td>False</td>\n      <td>0</td>\n      <td>1.0</td>\n      <td>0.0</td>\n      <td>-1</td>\n    </tr>\n    <tr>\n      <th>1</th>\n      <td>pcd0100</td>\n      <td>ModelGrasp_0_GT_Grasp_1</td>\n      <td>0.00000</td>\n      <td>False</td>\n      <td>0</td>\n      <td>1.0</td>\n      <td>0.0</td>\n      <td>-1</td>\n    </tr>\n    <tr>\n      <th>2</th>\n      <td>pcd0100</td>\n      <td>ModelGrasp_0_GT_Grasp_2</td>\n      <td>0.00000</td>\n      <td>False</td>\n      <td>0</td>\n      <td>1.0</td>\n      <td>0.0</td>\n      <td>-1</td>\n    </tr>\n    <tr>\n      <th>3</th>\n      <td>pcd0101</td>\n      <td>ModelGrasp_0_GT_Grasp_0</td>\n      <td>0.00000</td>\n      <td>False</td>\n      <td>1</td>\n      <td>1.0</td>\n      <td>0.0</td>\n      <td>-1</td>\n    </tr>\n    <tr>\n      <th>4</th>\n      <td>pcd0102</td>\n      <td>ModelGrasp_0_GT_Grasp_0</td>\n      <td>0.00000</td>\n      <td>False</td>\n      <td>2</td>\n      <td>1.0</td>\n      <td>0.0</td>\n      <td>-1</td>\n    </tr>\n    <tr>\n      <th>...</th>\n      <td>...</td>\n      <td>...</td>\n      <td>...</td>\n      <td>...</td>\n      <td>...</td>\n      <td>...</td>\n      <td>...</td>\n      <td>...</td>\n    </tr>\n    <tr>\n      <th>2842</th>\n      <td>pcd1033</td>\n      <td>ModelGrasp_0_GT_Grasp_4</td>\n      <td>0.00000</td>\n      <td>False</td>\n      <td>882</td>\n      <td>1.0</td>\n      <td>0.0</td>\n      <td>-1</td>\n    </tr>\n    <tr>\n      <th>2843</th>\n      <td>pcd1034</td>\n      <td>ModelGrasp_0_GT_Grasp_0</td>\n      <td>0.31962</td>\n      <td>True</td>\n      <td>883</td>\n      <td>1.0</td>\n      <td>0.0</td>\n      <td>-1</td>\n    </tr>\n    <tr>\n      <th>2844</th>\n      <td>pcd1034</td>\n      <td>ModelGrasp_0_GT_Grasp_1</td>\n      <td>0.00000</td>\n      <td>False</td>\n      <td>883</td>\n      <td>1.0</td>\n      <td>0.0</td>\n      <td>-1</td>\n    </tr>\n    <tr>\n      <th>2845</th>\n      <td>pcd1034</td>\n      <td>ModelGrasp_0_GT_Grasp_2</td>\n      <td>0.00000</td>\n      <td>False</td>\n      <td>883</td>\n      <td>1.0</td>\n      <td>0.0</td>\n      <td>-1</td>\n    </tr>\n    <tr>\n      <th>2846</th>\n      <td>pcd1034</td>\n      <td>ModelGrasp_0_GT_Grasp_3</td>\n      <td>0.00000</td>\n      <td>False</td>\n      <td>883</td>\n      <td>1.0</td>\n      <td>0.0</td>\n      <td>-1</td>\n    </tr>\n  </tbody>\n</table>\n<p>2847 rows × 8 columns</p>\n</div>"
     },
     "metadata": {},
     "execution_count": 48
    }
   ],
   "source": [
    "neg_data"
   ]
  },
  {
   "cell_type": "code",
   "execution_count": 49,
   "metadata": {},
   "outputs": [],
   "source": [
    "grasp_result = pd.concat([pos_data, neg_data])"
   ]
  },
  {
   "cell_type": "code",
   "execution_count": 50,
   "metadata": {},
   "outputs": [
    {
     "output_type": "stream",
     "name": "stderr",
     "text": [
      "/media/gvk/GVK_Elements/py_linux/ensemble_dr_linux/lib/python3.8/site-packages/pandas/core/indexing.py:670: SettingWithCopyWarning: \nA value is trying to be set on a copy of a slice from a DataFrame\n\nSee the caveats in the documentation: https://pandas.pydata.org/pandas-docs/stable/user_guide/indexing.html#returning-a-view-versus-a-copy\n  iloc._setitem_with_indexer(indexer, value)\n"
     ]
    }
   ],
   "source": [
    "grasp_result['Positive_Result'].loc[grasp_result['Positive_Result'].isnull()] = False\n",
    "grasp_result['Negative_Result'].loc[grasp_result['Negative_Result'].isnull()] = False"
   ]
  },
  {
   "cell_type": "code",
   "execution_count": 51,
   "metadata": {},
   "outputs": [],
   "source": [
    "grasp_result.to_csv(\"FadiColorNet_IoU_AllGrasps_FullCornell_AllTypes.csv\", sep = ',', index = False)"
   ]
  },
  {
   "cell_type": "code",
   "execution_count": null,
   "metadata": {},
   "outputs": [],
   "source": []
  }
 ]
}