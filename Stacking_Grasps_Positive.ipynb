{
 "metadata": {
  "language_info": {
   "codemirror_mode": {
    "name": "ipython",
    "version": 3
   },
   "file_extension": ".py",
   "mimetype": "text/x-python",
   "name": "python",
   "nbconvert_exporter": "python",
   "pygments_lexer": "ipython3",
   "version": "3.8.0"
  },
  "orig_nbformat": 2,
  "kernelspec": {
   "name": "python380jvsc74a57bd06cf9bee30d277199a80153220137b84c65350a750d0350a850082f44e7ac5f43",
   "display_name": "Python 3.8.0 64-bit ('ensemble_dr_linux': venv)"
  }
 },
 "nbformat": 4,
 "nbformat_minor": 2,
 "cells": [
  {
   "cell_type": "code",
   "execution_count": 2,
   "metadata": {},
   "outputs": [],
   "source": [
    "## Stacking Grasps!\n",
    "import pandas as pd \n",
    "import numpy as np \n",
    "import pickle"
   ]
  },
  {
   "cell_type": "code",
   "execution_count": 3,
   "metadata": {},
   "outputs": [],
   "source": [
    "from sklearn.svm import SVC, OneClassSVM\n",
    "from sklearn.model_selection import train_test_split\n",
    "from sklearn.metrics import classification_report\n",
    "from sklearn.ensemble import RandomForestClassifier as RFC, IsolationForest as IF"
   ]
  },
  {
   "cell_type": "code",
   "execution_count": 4,
   "metadata": {},
   "outputs": [],
   "source": [
    "## Loading Model Results\n",
    "data_dir = \"/media/gvk/GVK_Elements/github_repo/Stacking_Grasp/Merged_Positive.csv\"\n",
    "results_df= pd.read_csv(data_dir)"
   ]
  },
  {
   "cell_type": "code",
   "execution_count": 5,
   "metadata": {},
   "outputs": [
    {
     "output_type": "execute_result",
     "data": {
      "text/plain": [
       "      Unnamed: 0                                  Grasp_ID  Color_IoU  \\\n",
       "0              0  Positive_pcd0100_ModelGrasp_0_GT_Grasp_0   0.283525   \n",
       "1              1  Positive_pcd0100_ModelGrasp_0_GT_Grasp_1   0.448869   \n",
       "2              2  Positive_pcd0100_ModelGrasp_0_GT_Grasp_2   0.048695   \n",
       "3              3  Positive_pcd0100_ModelGrasp_0_GT_Grasp_3   0.000000   \n",
       "4              4  Positive_pcd0101_ModelGrasp_0_GT_Grasp_0   0.000000   \n",
       "...          ...                                       ...        ...   \n",
       "4546        4546  Positive_pcd1034_ModelGrasp_0_GT_Grasp_0   0.000000   \n",
       "4547        4547  Positive_pcd1034_ModelGrasp_0_GT_Grasp_1   0.052144   \n",
       "4548        4548  Positive_pcd1034_ModelGrasp_0_GT_Grasp_2   0.000000   \n",
       "4549        4549  Positive_pcd1034_ModelGrasp_0_GT_Grasp_3   0.336987   \n",
       "4550        4550  Positive_pcd1034_ModelGrasp_0_GT_Grasp_4   0.409531   \n",
       "\n",
       "      Color_Positive  Depth_IoU  Depth_Positive  GGCNN2_IoU  GGCNN2_Positive  \\\n",
       "0               True   0.000000           False    0.000000            False   \n",
       "1               True   0.111162           False    0.056329            False   \n",
       "2              False   0.343457            True    0.249125            False   \n",
       "3              False   0.355614            True    0.436653             True   \n",
       "4              False   0.019095           False    0.000000            False   \n",
       "...              ...        ...             ...         ...              ...   \n",
       "4546           False   0.000000           False    0.000000            False   \n",
       "4547           False   0.000000           False    0.000000            False   \n",
       "4548           False   0.000000           False    0.000000            False   \n",
       "4549            True   0.000000           False    0.000000            False   \n",
       "4550            True   0.038830           False    0.001589            False   \n",
       "\n",
       "      GGCNN_IoU  GGCNN_Positive  Grasp_Type  \n",
       "0      0.000000           False           1  \n",
       "1      0.111162           False           1  \n",
       "2      0.343457            True           1  \n",
       "3      0.355614            True           1  \n",
       "4      0.019095           False           1  \n",
       "...         ...             ...         ...  \n",
       "4546   0.000000           False           1  \n",
       "4547   0.000000           False           1  \n",
       "4548   0.000000           False           1  \n",
       "4549   0.000000           False           1  \n",
       "4550   0.038830           False           1  \n",
       "\n",
       "[4551 rows x 11 columns]"
      ],
      "text/html": "<div>\n<style scoped>\n    .dataframe tbody tr th:only-of-type {\n        vertical-align: middle;\n    }\n\n    .dataframe tbody tr th {\n        vertical-align: top;\n    }\n\n    .dataframe thead th {\n        text-align: right;\n    }\n</style>\n<table border=\"1\" class=\"dataframe\">\n  <thead>\n    <tr style=\"text-align: right;\">\n      <th></th>\n      <th>Unnamed: 0</th>\n      <th>Grasp_ID</th>\n      <th>Color_IoU</th>\n      <th>Color_Positive</th>\n      <th>Depth_IoU</th>\n      <th>Depth_Positive</th>\n      <th>GGCNN2_IoU</th>\n      <th>GGCNN2_Positive</th>\n      <th>GGCNN_IoU</th>\n      <th>GGCNN_Positive</th>\n      <th>Grasp_Type</th>\n    </tr>\n  </thead>\n  <tbody>\n    <tr>\n      <th>0</th>\n      <td>0</td>\n      <td>Positive_pcd0100_ModelGrasp_0_GT_Grasp_0</td>\n      <td>0.283525</td>\n      <td>True</td>\n      <td>0.000000</td>\n      <td>False</td>\n      <td>0.000000</td>\n      <td>False</td>\n      <td>0.000000</td>\n      <td>False</td>\n      <td>1</td>\n    </tr>\n    <tr>\n      <th>1</th>\n      <td>1</td>\n      <td>Positive_pcd0100_ModelGrasp_0_GT_Grasp_1</td>\n      <td>0.448869</td>\n      <td>True</td>\n      <td>0.111162</td>\n      <td>False</td>\n      <td>0.056329</td>\n      <td>False</td>\n      <td>0.111162</td>\n      <td>False</td>\n      <td>1</td>\n    </tr>\n    <tr>\n      <th>2</th>\n      <td>2</td>\n      <td>Positive_pcd0100_ModelGrasp_0_GT_Grasp_2</td>\n      <td>0.048695</td>\n      <td>False</td>\n      <td>0.343457</td>\n      <td>True</td>\n      <td>0.249125</td>\n      <td>False</td>\n      <td>0.343457</td>\n      <td>True</td>\n      <td>1</td>\n    </tr>\n    <tr>\n      <th>3</th>\n      <td>3</td>\n      <td>Positive_pcd0100_ModelGrasp_0_GT_Grasp_3</td>\n      <td>0.000000</td>\n      <td>False</td>\n      <td>0.355614</td>\n      <td>True</td>\n      <td>0.436653</td>\n      <td>True</td>\n      <td>0.355614</td>\n      <td>True</td>\n      <td>1</td>\n    </tr>\n    <tr>\n      <th>4</th>\n      <td>4</td>\n      <td>Positive_pcd0101_ModelGrasp_0_GT_Grasp_0</td>\n      <td>0.000000</td>\n      <td>False</td>\n      <td>0.019095</td>\n      <td>False</td>\n      <td>0.000000</td>\n      <td>False</td>\n      <td>0.019095</td>\n      <td>False</td>\n      <td>1</td>\n    </tr>\n    <tr>\n      <th>...</th>\n      <td>...</td>\n      <td>...</td>\n      <td>...</td>\n      <td>...</td>\n      <td>...</td>\n      <td>...</td>\n      <td>...</td>\n      <td>...</td>\n      <td>...</td>\n      <td>...</td>\n      <td>...</td>\n    </tr>\n    <tr>\n      <th>4546</th>\n      <td>4546</td>\n      <td>Positive_pcd1034_ModelGrasp_0_GT_Grasp_0</td>\n      <td>0.000000</td>\n      <td>False</td>\n      <td>0.000000</td>\n      <td>False</td>\n      <td>0.000000</td>\n      <td>False</td>\n      <td>0.000000</td>\n      <td>False</td>\n      <td>1</td>\n    </tr>\n    <tr>\n      <th>4547</th>\n      <td>4547</td>\n      <td>Positive_pcd1034_ModelGrasp_0_GT_Grasp_1</td>\n      <td>0.052144</td>\n      <td>False</td>\n      <td>0.000000</td>\n      <td>False</td>\n      <td>0.000000</td>\n      <td>False</td>\n      <td>0.000000</td>\n      <td>False</td>\n      <td>1</td>\n    </tr>\n    <tr>\n      <th>4548</th>\n      <td>4548</td>\n      <td>Positive_pcd1034_ModelGrasp_0_GT_Grasp_2</td>\n      <td>0.000000</td>\n      <td>False</td>\n      <td>0.000000</td>\n      <td>False</td>\n      <td>0.000000</td>\n      <td>False</td>\n      <td>0.000000</td>\n      <td>False</td>\n      <td>1</td>\n    </tr>\n    <tr>\n      <th>4549</th>\n      <td>4549</td>\n      <td>Positive_pcd1034_ModelGrasp_0_GT_Grasp_3</td>\n      <td>0.336987</td>\n      <td>True</td>\n      <td>0.000000</td>\n      <td>False</td>\n      <td>0.000000</td>\n      <td>False</td>\n      <td>0.000000</td>\n      <td>False</td>\n      <td>1</td>\n    </tr>\n    <tr>\n      <th>4550</th>\n      <td>4550</td>\n      <td>Positive_pcd1034_ModelGrasp_0_GT_Grasp_4</td>\n      <td>0.409531</td>\n      <td>True</td>\n      <td>0.038830</td>\n      <td>False</td>\n      <td>0.001589</td>\n      <td>False</td>\n      <td>0.038830</td>\n      <td>False</td>\n      <td>1</td>\n    </tr>\n  </tbody>\n</table>\n<p>4551 rows × 11 columns</p>\n</div>"
     },
     "metadata": {},
     "execution_count": 5
    }
   ],
   "source": [
    "results_df"
   ]
  },
  {
   "cell_type": "code",
   "execution_count": 14,
   "metadata": {},
   "outputs": [],
   "source": [
    "X = results_df.drop(columns = ['Unnamed: 0', 'Grasp_ID', 'Grasp_Type'])\n",
    "y = results_df['Grasp_Type']"
   ]
  },
  {
   "cell_type": "code",
   "execution_count": 15,
   "metadata": {},
   "outputs": [
    {
     "output_type": "execute_result",
     "data": {
      "text/plain": [
       "      Color_IoU  Color_Positive  Depth_IoU  Depth_Positive  GGCNN2_IoU  \\\n",
       "0      0.283525            True   0.000000           False    0.000000   \n",
       "1      0.448869            True   0.111162           False    0.056329   \n",
       "2      0.048695           False   0.343457            True    0.249125   \n",
       "3      0.000000           False   0.355614            True    0.436653   \n",
       "4      0.000000           False   0.019095           False    0.000000   \n",
       "...         ...             ...        ...             ...         ...   \n",
       "4546   0.000000           False   0.000000           False    0.000000   \n",
       "4547   0.052144           False   0.000000           False    0.000000   \n",
       "4548   0.000000           False   0.000000           False    0.000000   \n",
       "4549   0.336987            True   0.000000           False    0.000000   \n",
       "4550   0.409531            True   0.038830           False    0.001589   \n",
       "\n",
       "      GGCNN2_Positive  GGCNN_IoU  GGCNN_Positive  \n",
       "0               False   0.000000           False  \n",
       "1               False   0.111162           False  \n",
       "2               False   0.343457            True  \n",
       "3                True   0.355614            True  \n",
       "4               False   0.019095           False  \n",
       "...               ...        ...             ...  \n",
       "4546            False   0.000000           False  \n",
       "4547            False   0.000000           False  \n",
       "4548            False   0.000000           False  \n",
       "4549            False   0.000000           False  \n",
       "4550            False   0.038830           False  \n",
       "\n",
       "[4551 rows x 8 columns]"
      ],
      "text/html": "<div>\n<style scoped>\n    .dataframe tbody tr th:only-of-type {\n        vertical-align: middle;\n    }\n\n    .dataframe tbody tr th {\n        vertical-align: top;\n    }\n\n    .dataframe thead th {\n        text-align: right;\n    }\n</style>\n<table border=\"1\" class=\"dataframe\">\n  <thead>\n    <tr style=\"text-align: right;\">\n      <th></th>\n      <th>Color_IoU</th>\n      <th>Color_Positive</th>\n      <th>Depth_IoU</th>\n      <th>Depth_Positive</th>\n      <th>GGCNN2_IoU</th>\n      <th>GGCNN2_Positive</th>\n      <th>GGCNN_IoU</th>\n      <th>GGCNN_Positive</th>\n    </tr>\n  </thead>\n  <tbody>\n    <tr>\n      <th>0</th>\n      <td>0.283525</td>\n      <td>True</td>\n      <td>0.000000</td>\n      <td>False</td>\n      <td>0.000000</td>\n      <td>False</td>\n      <td>0.000000</td>\n      <td>False</td>\n    </tr>\n    <tr>\n      <th>1</th>\n      <td>0.448869</td>\n      <td>True</td>\n      <td>0.111162</td>\n      <td>False</td>\n      <td>0.056329</td>\n      <td>False</td>\n      <td>0.111162</td>\n      <td>False</td>\n    </tr>\n    <tr>\n      <th>2</th>\n      <td>0.048695</td>\n      <td>False</td>\n      <td>0.343457</td>\n      <td>True</td>\n      <td>0.249125</td>\n      <td>False</td>\n      <td>0.343457</td>\n      <td>True</td>\n    </tr>\n    <tr>\n      <th>3</th>\n      <td>0.000000</td>\n      <td>False</td>\n      <td>0.355614</td>\n      <td>True</td>\n      <td>0.436653</td>\n      <td>True</td>\n      <td>0.355614</td>\n      <td>True</td>\n    </tr>\n    <tr>\n      <th>4</th>\n      <td>0.000000</td>\n      <td>False</td>\n      <td>0.019095</td>\n      <td>False</td>\n      <td>0.000000</td>\n      <td>False</td>\n      <td>0.019095</td>\n      <td>False</td>\n    </tr>\n    <tr>\n      <th>...</th>\n      <td>...</td>\n      <td>...</td>\n      <td>...</td>\n      <td>...</td>\n      <td>...</td>\n      <td>...</td>\n      <td>...</td>\n      <td>...</td>\n    </tr>\n    <tr>\n      <th>4546</th>\n      <td>0.000000</td>\n      <td>False</td>\n      <td>0.000000</td>\n      <td>False</td>\n      <td>0.000000</td>\n      <td>False</td>\n      <td>0.000000</td>\n      <td>False</td>\n    </tr>\n    <tr>\n      <th>4547</th>\n      <td>0.052144</td>\n      <td>False</td>\n      <td>0.000000</td>\n      <td>False</td>\n      <td>0.000000</td>\n      <td>False</td>\n      <td>0.000000</td>\n      <td>False</td>\n    </tr>\n    <tr>\n      <th>4548</th>\n      <td>0.000000</td>\n      <td>False</td>\n      <td>0.000000</td>\n      <td>False</td>\n      <td>0.000000</td>\n      <td>False</td>\n      <td>0.000000</td>\n      <td>False</td>\n    </tr>\n    <tr>\n      <th>4549</th>\n      <td>0.336987</td>\n      <td>True</td>\n      <td>0.000000</td>\n      <td>False</td>\n      <td>0.000000</td>\n      <td>False</td>\n      <td>0.000000</td>\n      <td>False</td>\n    </tr>\n    <tr>\n      <th>4550</th>\n      <td>0.409531</td>\n      <td>True</td>\n      <td>0.038830</td>\n      <td>False</td>\n      <td>0.001589</td>\n      <td>False</td>\n      <td>0.038830</td>\n      <td>False</td>\n    </tr>\n  </tbody>\n</table>\n<p>4551 rows × 8 columns</p>\n</div>"
     },
     "metadata": {},
     "execution_count": 15
    }
   ],
   "source": [
    "X"
   ]
  },
  {
   "cell_type": "code",
   "execution_count": 24,
   "metadata": {},
   "outputs": [],
   "source": [
    "trainX, testX, trainY, testY =  train_test_split(X, y, test_size = 0.1)"
   ]
  },
  {
   "cell_type": "code",
   "execution_count": 25,
   "metadata": {},
   "outputs": [
    {
     "output_type": "stream",
     "name": "stdout",
     "text": [
      "              precision    recall  f1-score   support\n",
      "\n",
      "          -1       0.00      0.00      0.00         0\n",
      "           1       1.00      0.30      0.46       456\n",
      "\n",
      "    accuracy                           0.30       456\n",
      "   macro avg       0.50      0.15      0.23       456\n",
      "weighted avg       1.00      0.30      0.46       456\n",
      "\n",
      "/media/gvk/GVK_Elements/py_linux/ensemble_dr_linux/lib/python3.8/site-packages/sklearn/metrics/_classification.py:1245: UndefinedMetricWarning: Recall and F-score are ill-defined and being set to 0.0 in labels with no true samples. Use `zero_division` parameter to control this behavior.\n",
      "  _warn_prf(average, modifier, msg_start, len(result))\n",
      "/media/gvk/GVK_Elements/py_linux/ensemble_dr_linux/lib/python3.8/site-packages/sklearn/metrics/_classification.py:1245: UndefinedMetricWarning: Recall and F-score are ill-defined and being set to 0.0 in labels with no true samples. Use `zero_division` parameter to control this behavior.\n",
      "  _warn_prf(average, modifier, msg_start, len(result))\n",
      "/media/gvk/GVK_Elements/py_linux/ensemble_dr_linux/lib/python3.8/site-packages/sklearn/metrics/_classification.py:1245: UndefinedMetricWarning: Recall and F-score are ill-defined and being set to 0.0 in labels with no true samples. Use `zero_division` parameter to control this behavior.\n",
      "  _warn_prf(average, modifier, msg_start, len(result))\n"
     ]
    }
   ],
   "source": [
    "## Once Class SVM\n",
    "results_OCSVC = OneClassSVM()\n",
    "results_OCSVC.fit(X = trainX, y = trainY)\n",
    "predictY_OCSVC = results_OCSVC.predict(X = testX)\n",
    "print(classification_report(testY, predictY_OCSVC))"
   ]
  },
  {
   "cell_type": "code",
   "execution_count": 26,
   "metadata": {},
   "outputs": [
    {
     "output_type": "stream",
     "name": "stdout",
     "text": [
      "              precision    recall  f1-score   support\n",
      "\n",
      "          -1       0.00      0.00      0.00         0\n",
      "           1       1.00      0.49      0.66       456\n",
      "\n",
      "    accuracy                           0.49       456\n",
      "   macro avg       0.50      0.24      0.33       456\n",
      "weighted avg       1.00      0.49      0.66       456\n",
      "\n",
      "/media/gvk/GVK_Elements/py_linux/ensemble_dr_linux/lib/python3.8/site-packages/sklearn/metrics/_classification.py:1245: UndefinedMetricWarning: Recall and F-score are ill-defined and being set to 0.0 in labels with no true samples. Use `zero_division` parameter to control this behavior.\n",
      "  _warn_prf(average, modifier, msg_start, len(result))\n",
      "/media/gvk/GVK_Elements/py_linux/ensemble_dr_linux/lib/python3.8/site-packages/sklearn/metrics/_classification.py:1245: UndefinedMetricWarning: Recall and F-score are ill-defined and being set to 0.0 in labels with no true samples. Use `zero_division` parameter to control this behavior.\n",
      "  _warn_prf(average, modifier, msg_start, len(result))\n",
      "/media/gvk/GVK_Elements/py_linux/ensemble_dr_linux/lib/python3.8/site-packages/sklearn/metrics/_classification.py:1245: UndefinedMetricWarning: Recall and F-score are ill-defined and being set to 0.0 in labels with no true samples. Use `zero_division` parameter to control this behavior.\n",
      "  _warn_prf(average, modifier, msg_start, len(result))\n"
     ]
    }
   ],
   "source": [
    "## Isolation Forest\n",
    "results_IF = IF(random_state = 0)\n",
    "results_IF.fit(X = trainX, y = trainY)\n",
    "predictY_IF = results_IF.predict(X = testX)\n",
    "print(classification_report(testY, predictY_IF))"
   ]
  },
  {
   "cell_type": "code",
   "execution_count": null,
   "metadata": {},
   "outputs": [],
   "source": []
  }
 ]
}